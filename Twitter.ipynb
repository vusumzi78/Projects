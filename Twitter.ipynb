{
 "cells": [
  {
   "cell_type": "markdown",
   "metadata": {},
   "source": [
    "\n"
   ]
  },
  {
   "cell_type": "markdown",
   "metadata": {},
   "source": []
  },
  {
   "cell_type": "markdown",
   "metadata": {},
   "source": [
    "# Objective\n",
    "The goal for the model is to distinguish tweets about climate change into one of the three labels:\n",
    "* 2: news - factual news about the climate change\n",
    "* 1: pro - support the belief that climate change is caused by the man-kinds.\n",
    "* 0: neutral\n",
    "* -1: anti - refuse the belief that climate change is caused by the man-kinds"
   ]
  },
  {
   "cell_type": "markdown",
   "metadata": {
    "execution": {
     "iopub.execute_input": "2022-04-06T04:37:08.545792Z",
     "iopub.status.busy": "2022-04-06T04:37:08.545067Z",
     "iopub.status.idle": "2022-04-06T04:37:08.5497Z",
     "shell.execute_reply": "2022-04-06T04:37:08.548881Z",
     "shell.execute_reply.started": "2022-04-06T04:37:08.545745Z"
    }
   },
   "source": [
    "# EDA\n"
   ]
  },
  {
   "cell_type": "markdown",
   "metadata": {},
   "source": [
    "## Load Packages and Data\n",
    "Before analyzing data, we need to import required packages and the dataset."
   ]
  },
  {
   "cell_type": "code",
   "execution_count": 69,
   "metadata": {
    "execution": {
     "iopub.execute_input": "2022-04-07T21:54:00.654507Z",
     "iopub.status.busy": "2022-04-07T21:54:00.654142Z",
     "iopub.status.idle": "2022-04-07T21:54:15.099929Z",
     "shell.execute_reply": "2022-04-07T21:54:15.098972Z",
     "shell.execute_reply.started": "2022-04-07T21:54:00.654404Z"
    }
   },
   "outputs": [
    {
     "name": "stdout",
     "output_type": "stream",
     "text": [
      "Requirement already satisfied: pydataset in c:\\users\\x475905\\onedrive - old mutual\\documents\\empty\\lib\\site-packages (0.2.0)\n",
      "Requirement already satisfied: pandas in c:\\users\\x475905\\onedrive - old mutual\\documents\\empty\\lib\\site-packages (from pydataset) (1.4.2)\n",
      "Requirement already satisfied: pytz>=2020.1 in c:\\users\\x475905\\onedrive - old mutual\\documents\\empty\\lib\\site-packages (from pandas->pydataset) (2021.3)\n",
      "Requirement already satisfied: numpy>=1.18.5 in c:\\users\\x475905\\onedrive - old mutual\\documents\\empty\\lib\\site-packages (from pandas->pydataset) (1.21.5)\n",
      "Requirement already satisfied: python-dateutil>=2.8.1 in c:\\users\\x475905\\onedrive - old mutual\\documents\\empty\\lib\\site-packages (from pandas->pydataset) (2.8.2)\n",
      "Requirement already satisfied: six>=1.5 in c:\\users\\x475905\\onedrive - old mutual\\documents\\empty\\lib\\site-packages (from python-dateutil>=2.8.1->pandas->pydataset) (1.16.0)\n",
      "Note: you may need to restart the kernel to use updated packages.\n"
     ]
    }
   ],
   "source": [
    "pip install pydataset"
   ]
  },
  {
   "cell_type": "code",
   "execution_count": 91,
   "metadata": {
    "execution": {
     "iopub.execute_input": "2022-04-07T21:54:15.101927Z",
     "iopub.status.busy": "2022-04-07T21:54:15.10165Z",
     "iopub.status.idle": "2022-04-07T21:54:18.433575Z",
     "shell.execute_reply": "2022-04-07T21:54:18.432712Z",
     "shell.execute_reply.started": "2022-04-07T21:54:15.101895Z"
    }
   },
   "outputs": [],
   "source": [
    "# import packages\n",
    "import pandas as pd\n",
    "import numpy as np\n",
    "from os import makedirs\n",
    "from os import path\n",
    "import math\n",
    "from scipy.sparse import csr_matrix\n",
    "\n",
    "import matplotlib.pyplot as plt\n",
    "import seaborn as sns\n",
    "\n",
    "import nltk.downloader\n",
    "from nltk.tokenize import RegexpTokenizer\n",
    "from nltk.corpus import stopwords\n",
    "from nltk.stem import PorterStemmer\n",
    "from sklearn.feature_extraction.text import CountVectorizer\n",
    "from collections import Counter\n",
    "from nltk.util import ngrams\n",
    "\n",
    "from sklearn.model_selection import train_test_split\n",
    "from sklearn.linear_model import LogisticRegression\n",
    "from sklearn import metrics\n",
    "from pydataset import data\n",
    "from sklearn.ensemble        import BaggingClassifier, \\\n",
    "         ExtraTreesClassifier, RandomForestClassifier\n",
    "from sklearn.neighbors       import KNeighborsClassifier\n",
    "from sklearn.linear_model    import RidgeClassifier\n",
    "from sklearn.svm             import SVC\n",
    "from sklearn.tree import plot_tree\n",
    "from sklearn.tree import DecisionTreeClassifier\n",
    "\n",
    "import pickle\n",
    "import json"
   ]
  },
  {
   "cell_type": "code",
   "execution_count": 92,
   "metadata": {
    "execution": {
     "iopub.execute_input": "2022-04-07T04:46:53.311059Z",
     "iopub.status.busy": "2022-04-07T04:46:53.310761Z",
     "iopub.status.idle": "2022-04-07T04:46:53.43555Z",
     "shell.execute_reply": "2022-04-07T04:46:53.434766Z",
     "shell.execute_reply.started": "2022-04-07T04:46:53.311024Z"
    }
   },
   "outputs": [
    {
     "data": {
      "text/html": [
       "<div>\n",
       "<style scoped>\n",
       "    .dataframe tbody tr th:only-of-type {\n",
       "        vertical-align: middle;\n",
       "    }\n",
       "\n",
       "    .dataframe tbody tr th {\n",
       "        vertical-align: top;\n",
       "    }\n",
       "\n",
       "    .dataframe thead th {\n",
       "        text-align: right;\n",
       "    }\n",
       "</style>\n",
       "<table border=\"1\" class=\"dataframe\">\n",
       "  <thead>\n",
       "    <tr style=\"text-align: right;\">\n",
       "      <th></th>\n",
       "      <th>sentiment</th>\n",
       "      <th>message</th>\n",
       "      <th>tweetid</th>\n",
       "    </tr>\n",
       "  </thead>\n",
       "  <tbody>\n",
       "    <tr>\n",
       "      <th>0</th>\n",
       "      <td>1</td>\n",
       "      <td>PolySciMajor EPA chief doesn't think carbon dioxide is main cause of global warming an...</td>\n",
       "      <td>625221</td>\n",
       "    </tr>\n",
       "    <tr>\n",
       "      <th>1</th>\n",
       "      <td>1</td>\n",
       "      <td>It's not like we lack evidence of anthropogenic global warming</td>\n",
       "      <td>126103</td>\n",
       "    </tr>\n",
       "    <tr>\n",
       "      <th>2</th>\n",
       "      <td>2</td>\n",
       "      <td>RT @RawStory: Researchers say we have three years to act on climate change before it’s...</td>\n",
       "      <td>698562</td>\n",
       "    </tr>\n",
       "    <tr>\n",
       "      <th>3</th>\n",
       "      <td>1</td>\n",
       "      <td>#TodayinMaker# WIRED : 2016 was a pivotal year in the war on climate change https://t....</td>\n",
       "      <td>573736</td>\n",
       "    </tr>\n",
       "    <tr>\n",
       "      <th>4</th>\n",
       "      <td>1</td>\n",
       "      <td>RT @SoyNovioDeTodas: It's 2016, and a racist, sexist, climate change denying bigot is ...</td>\n",
       "      <td>466954</td>\n",
       "    </tr>\n",
       "    <tr>\n",
       "      <th>5</th>\n",
       "      <td>1</td>\n",
       "      <td>Worth a read whether you do or don't believe in climate change https://t.co/ggLZVNYjun...</td>\n",
       "      <td>425577</td>\n",
       "    </tr>\n",
       "    <tr>\n",
       "      <th>6</th>\n",
       "      <td>1</td>\n",
       "      <td>RT @thenation: Mike Pence doesn’t believe in global warming or that smoking causes lun...</td>\n",
       "      <td>294933</td>\n",
       "    </tr>\n",
       "    <tr>\n",
       "      <th>7</th>\n",
       "      <td>1</td>\n",
       "      <td>RT @makeandmendlife: Six big things we can ALL do today to fight climate change, or ho...</td>\n",
       "      <td>992717</td>\n",
       "    </tr>\n",
       "    <tr>\n",
       "      <th>8</th>\n",
       "      <td>1</td>\n",
       "      <td>@AceofSpadesHQ My 8yo nephew is inconsolable. He wants to die of old age like me, but ...</td>\n",
       "      <td>664510</td>\n",
       "    </tr>\n",
       "    <tr>\n",
       "      <th>9</th>\n",
       "      <td>1</td>\n",
       "      <td>RT @paigetweedy: no offense… but like… how do you just not believe… in global warming………</td>\n",
       "      <td>260471</td>\n",
       "    </tr>\n",
       "  </tbody>\n",
       "</table>\n",
       "</div>"
      ],
      "text/plain": [
       "   sentiment  \\\n",
       "0          1   \n",
       "1          1   \n",
       "2          2   \n",
       "3          1   \n",
       "4          1   \n",
       "5          1   \n",
       "6          1   \n",
       "7          1   \n",
       "8          1   \n",
       "9          1   \n",
       "\n",
       "                                                                                     message  \\\n",
       "0  PolySciMajor EPA chief doesn't think carbon dioxide is main cause of global warming an...   \n",
       "1                             It's not like we lack evidence of anthropogenic global warming   \n",
       "2  RT @RawStory: Researchers say we have three years to act on climate change before it’s...   \n",
       "3  #TodayinMaker# WIRED : 2016 was a pivotal year in the war on climate change https://t....   \n",
       "4  RT @SoyNovioDeTodas: It's 2016, and a racist, sexist, climate change denying bigot is ...   \n",
       "5  Worth a read whether you do or don't believe in climate change https://t.co/ggLZVNYjun...   \n",
       "6  RT @thenation: Mike Pence doesn’t believe in global warming or that smoking causes lun...   \n",
       "7  RT @makeandmendlife: Six big things we can ALL do today to fight climate change, or ho...   \n",
       "8  @AceofSpadesHQ My 8yo nephew is inconsolable. He wants to die of old age like me, but ...   \n",
       "9   RT @paigetweedy: no offense… but like… how do you just not believe… in global warming………   \n",
       "\n",
       "   tweetid  \n",
       "0   625221  \n",
       "1   126103  \n",
       "2   698562  \n",
       "3   573736  \n",
       "4   466954  \n",
       "5   425577  \n",
       "6   294933  \n",
       "7   992717  \n",
       "8   664510  \n",
       "9   260471  "
      ]
     },
     "execution_count": 92,
     "metadata": {},
     "output_type": "execute_result"
    }
   ],
   "source": [
    "df = pd.read_csv('train.csv')\n",
    "df.head(10)"
   ]
  },
  {
   "cell_type": "code",
   "execution_count": 93,
   "metadata": {
    "execution": {
     "iopub.execute_input": "2022-04-07T04:46:53.437607Z",
     "iopub.status.busy": "2022-04-07T04:46:53.437378Z",
     "iopub.status.idle": "2022-04-07T04:46:53.444838Z",
     "shell.execute_reply": "2022-04-07T04:46:53.444016Z",
     "shell.execute_reply.started": "2022-04-07T04:46:53.437579Z"
    }
   },
   "outputs": [],
   "source": [
    "# set up label dataframe for future refrences\n",
    "\n",
    "label = [-1, 0, 1, 2]\n",
    "labelN = [\"Anti\", \"Neutral\", \"Pro\", \"News\"]\n",
    "labelDesc = [\n",
    "    \"the tweet does not believe in man-made climate change\"\n",
    "    , \"the tweet neither supports nor refutes the belief of man-made climate change\"\n",
    "    , \"the tweet supports the belief of man-made climate change\"\n",
    "    , \"the tweet links to factual news about climate change\"\n",
    "]\n",
    "\n",
    "labelDf = pd.DataFrame(list(zip(label, labelN, labelDesc)), columns=[\"label\", \"name\", \"description\"])"
   ]
  },
  {
   "cell_type": "markdown",
   "metadata": {},
   "source": [
    "## Data Dictionary"
   ]
  },
  {
   "cell_type": "code",
   "execution_count": 94,
   "metadata": {
    "execution": {
     "iopub.execute_input": "2022-04-07T04:46:53.447172Z",
     "iopub.status.busy": "2022-04-07T04:46:53.446814Z",
     "iopub.status.idle": "2022-04-07T04:46:53.462692Z",
     "shell.execute_reply": "2022-04-07T04:46:53.461344Z",
     "shell.execute_reply.started": "2022-04-07T04:46:53.447127Z"
    }
   },
   "outputs": [
    {
     "data": {
      "text/html": [
       "<div>\n",
       "<style scoped>\n",
       "    .dataframe tbody tr th:only-of-type {\n",
       "        vertical-align: middle;\n",
       "    }\n",
       "\n",
       "    .dataframe tbody tr th {\n",
       "        vertical-align: top;\n",
       "    }\n",
       "\n",
       "    .dataframe thead th {\n",
       "        text-align: right;\n",
       "    }\n",
       "</style>\n",
       "<table border=\"1\" class=\"dataframe\">\n",
       "  <thead>\n",
       "    <tr style=\"text-align: right;\">\n",
       "      <th></th>\n",
       "      <th>sentiment</th>\n",
       "      <th>message</th>\n",
       "      <th>tweetid</th>\n",
       "    </tr>\n",
       "  </thead>\n",
       "  <tbody>\n",
       "    <tr>\n",
       "      <th>0</th>\n",
       "      <td>1</td>\n",
       "      <td>PolySciMajor EPA chief doesn't think carbon dioxide is main cause of global warming an...</td>\n",
       "      <td>625221</td>\n",
       "    </tr>\n",
       "    <tr>\n",
       "      <th>1</th>\n",
       "      <td>1</td>\n",
       "      <td>It's not like we lack evidence of anthropogenic global warming</td>\n",
       "      <td>126103</td>\n",
       "    </tr>\n",
       "    <tr>\n",
       "      <th>2</th>\n",
       "      <td>2</td>\n",
       "      <td>RT @RawStory: Researchers say we have three years to act on climate change before it’s...</td>\n",
       "      <td>698562</td>\n",
       "    </tr>\n",
       "    <tr>\n",
       "      <th>3</th>\n",
       "      <td>1</td>\n",
       "      <td>#TodayinMaker# WIRED : 2016 was a pivotal year in the war on climate change https://t....</td>\n",
       "      <td>573736</td>\n",
       "    </tr>\n",
       "    <tr>\n",
       "      <th>4</th>\n",
       "      <td>1</td>\n",
       "      <td>RT @SoyNovioDeTodas: It's 2016, and a racist, sexist, climate change denying bigot is ...</td>\n",
       "      <td>466954</td>\n",
       "    </tr>\n",
       "  </tbody>\n",
       "</table>\n",
       "</div>"
      ],
      "text/plain": [
       "   sentiment  \\\n",
       "0          1   \n",
       "1          1   \n",
       "2          2   \n",
       "3          1   \n",
       "4          1   \n",
       "\n",
       "                                                                                     message  \\\n",
       "0  PolySciMajor EPA chief doesn't think carbon dioxide is main cause of global warming an...   \n",
       "1                             It's not like we lack evidence of anthropogenic global warming   \n",
       "2  RT @RawStory: Researchers say we have three years to act on climate change before it’s...   \n",
       "3  #TodayinMaker# WIRED : 2016 was a pivotal year in the war on climate change https://t....   \n",
       "4  RT @SoyNovioDeTodas: It's 2016, and a racist, sexist, climate change denying bigot is ...   \n",
       "\n",
       "   tweetid  \n",
       "0   625221  \n",
       "1   126103  \n",
       "2   698562  \n",
       "3   573736  \n",
       "4   466954  "
      ]
     },
     "execution_count": 94,
     "metadata": {},
     "output_type": "execute_result"
    }
   ],
   "source": [
    "df.head()"
   ]
  },
  {
   "cell_type": "markdown",
   "metadata": {},
   "source": []
  },
  {
   "cell_type": "code",
   "execution_count": 95,
   "metadata": {
    "execution": {
     "iopub.execute_input": "2022-04-07T04:46:53.46428Z",
     "iopub.status.busy": "2022-04-07T04:46:53.46405Z",
     "iopub.status.idle": "2022-04-07T04:46:53.486799Z",
     "shell.execute_reply": "2022-04-07T04:46:53.486157Z",
     "shell.execute_reply.started": "2022-04-07T04:46:53.464254Z"
    }
   },
   "outputs": [
    {
     "name": "stdout",
     "output_type": "stream",
     "text": [
      "<class 'pandas.core.frame.DataFrame'>\n",
      "RangeIndex: 15819 entries, 0 to 15818\n",
      "Data columns (total 3 columns):\n",
      " #   Column     Non-Null Count  Dtype \n",
      "---  ------     --------------  ----- \n",
      " 0   sentiment  15819 non-null  int64 \n",
      " 1   message    15819 non-null  object\n",
      " 2   tweetid    15819 non-null  int64 \n",
      "dtypes: int64(2), object(1)\n",
      "memory usage: 370.9+ KB\n"
     ]
    }
   ],
   "source": [
    "df.info()"
   ]
  },
  {
   "cell_type": "markdown",
   "metadata": {},
   "source": [
    "There are total of 43949 entries with no null counts."
   ]
  },
  {
   "cell_type": "markdown",
   "metadata": {},
   "source": [
    "## Distribution of Sentiments"
   ]
  },
  {
   "cell_type": "code",
   "execution_count": 96,
   "metadata": {
    "execution": {
     "iopub.execute_input": "2022-04-07T04:46:53.489475Z",
     "iopub.status.busy": "2022-04-07T04:46:53.489161Z",
     "iopub.status.idle": "2022-04-07T04:46:53.684083Z",
     "shell.execute_reply": "2022-04-07T04:46:53.683257Z",
     "shell.execute_reply.started": "2022-04-07T04:46:53.489431Z"
    }
   },
   "outputs": [
    {
     "data": {
      "image/png": "[encoded data removed]",
      "text/plain": [
       "<Figure size 504x504 with 1 Axes>"
      ]
     },
     "metadata": {},
     "output_type": "display_data"
    }
   ],
   "source": [
    "plt.figure(figsize = (7, 7))\n",
    "plt.pie(df.sentiment.value_counts().values, labels = df.sentiment.value_counts().index, autopct = '%2.1f%%', textprops={'fontsize': 15})\n",
    "plt.title('Sentiment Distribution of the Tweet Dataset', fontsize=20)\n",
    "plt.tight_layout()\n",
    "plt.show()"
   ]
  },
  {
   "cell_type": "markdown",
   "metadata": {},
   "source": [
    "The pie chart shows the distribution of the data. Majority of tweets are labelled as \"1\" meaning the positive attitude toward the belief that the climate change is caused by the man-kinds, followed by \"2\"(news), \"0\"(neutral), and \"-1\"(anti)."
   ]
  },
  {
   "cell_type": "code",
   "execution_count": 97,
   "metadata": {
    "execution": {
     "iopub.execute_input": "2022-04-07T04:46:53.686151Z",
     "iopub.status.busy": "2022-04-07T04:46:53.68565Z",
     "iopub.status.idle": "2022-04-07T04:46:53.695431Z",
     "shell.execute_reply": "2022-04-07T04:46:53.694579Z",
     "shell.execute_reply.started": "2022-04-07T04:46:53.686107Z"
    }
   },
   "outputs": [
    {
     "data": {
      "text/plain": [
       " 1    8530\n",
       " 2    3640\n",
       " 0    2353\n",
       "-1    1296\n",
       "Name: sentiment, dtype: int64"
      ]
     },
     "execution_count": 97,
     "metadata": {},
     "output_type": "execute_result"
    }
   ],
   "source": [
    "df.sentiment.value_counts()"
   ]
  },
  {
   "cell_type": "markdown",
   "metadata": {},
   "source": [
    "These are the exact numbers of each sentiment label."
   ]
  },
  {
   "cell_type": "markdown",
   "metadata": {},
   "source": [
    "# Data Preparation for Sentiment Analysis\n",
    "Tweet texts will be transformed and vectorized to be fed into models."
   ]
  },
  {
   "cell_type": "code",
   "execution_count": 98,
   "metadata": {
    "execution": {
     "iopub.execute_input": "2022-04-07T04:46:53.697597Z",
     "iopub.status.busy": "2022-04-07T04:46:53.69703Z",
     "iopub.status.idle": "2022-04-07T04:46:53.705374Z",
     "shell.execute_reply": "2022-04-07T04:46:53.704719Z",
     "shell.execute_reply.started": "2022-04-07T04:46:53.697552Z"
    }
   },
   "outputs": [],
   "source": [
    "# separate the messages column for transformation.\n",
    "dfTweets = df[\"message\"]"
   ]
  },
  {
   "cell_type": "markdown",
   "metadata": {},
   "source": [
    "## Tokenization\n",
    "All the tweets are first split into arrays of words."
   ]
  },
  {
   "cell_type": "code",
   "execution_count": 99,
   "metadata": {
    "execution": {
     "iopub.execute_input": "2022-04-07T04:46:53.710254Z",
     "iopub.status.busy": "2022-04-07T04:46:53.709815Z",
     "iopub.status.idle": "2022-04-07T04:46:53.718394Z",
     "shell.execute_reply": "2022-04-07T04:46:53.717622Z",
     "shell.execute_reply.started": "2022-04-07T04:46:53.710182Z"
    }
   },
   "outputs": [],
   "source": [
    "def createTokenizedArray(sentences):\n",
    "    '''\n",
    "    Create lower case array of words with no punctuation.\n",
    "    :param sentences: array or series of texts\n",
    "    :return: lower case array of words with no punctuation.\n",
    "    '''\n",
    "    # Initialize tokenizer and empty array to store modified sentences.\n",
    "    tokenizer = RegexpTokenizer(r'\\w+')\n",
    "    tokenizedArray = []\n",
    "    for i in range(0, len(sentences)):\n",
    "        # Convert sentence to lower case.\n",
    "        sentence = sentences[i].lower()\n",
    "\n",
    "        # Split sentence into array of words with no punctuation.\n",
    "        words = tokenizer.tokenize(sentence)\n",
    "\n",
    "        # Append word array to list.\n",
    "        tokenizedArray.append(words)\n",
    "\n",
    "    # print(tokenizedArray)\n",
    "    return tokenizedArray  # send modified contents back to calling function."
   ]
  },
  {
   "cell_type": "code",
   "execution_count": 100,
   "metadata": {
    "execution": {
     "iopub.execute_input": "2022-04-07T04:46:53.721581Z",
     "iopub.status.busy": "2022-04-07T04:46:53.720496Z",
     "iopub.status.idle": "2022-04-07T04:46:54.451957Z",
     "shell.execute_reply": "2022-04-07T04:46:54.451111Z",
     "shell.execute_reply.started": "2022-04-07T04:46:53.721484Z"
    }
   },
   "outputs": [
    {
     "data": {
      "text/plain": [
       "0    [polyscimajor, epa, chief, doesn, t, think, carbon, dioxide, is, main, cause, of, glob...\n",
       "1                   [it, s, not, like, we, lack, evidence, of, anthropogenic, global, warming]\n",
       "2    [rt, rawstory, researchers, say, we, have, three, years, to, act, on, climate, change,...\n",
       "3    [todayinmaker, wired, 2016, was, a, pivotal, year, in, the, war, on, climate, change, ...\n",
       "4    [rt, soynoviodetodas, it, s, 2016, and, a, racist, sexist, climate, change, denying, b...\n",
       "dtype: object"
      ]
     },
     "execution_count": 100,
     "metadata": {},
     "output_type": "execute_result"
    }
   ],
   "source": [
    "tokenizedLi = createTokenizedArray(dfTweets)\n",
    "\n",
    "pd.Series(tokenizedLi[:5])"
   ]
  },
  {
   "cell_type": "markdown",
   "metadata": {},
   "source": [
    "Each array contains words of individual tweet."
   ]
  },
  {
   "cell_type": "markdown",
   "metadata": {},
   "source": [
    "## Stop Word Removal\n",
    "Stop words are the words that do not add any significant values to the query search, such as \"the\", \"a\", and \"an\". They are safe to be removed from the tokenized list."
   ]
  },
  {
   "cell_type": "code",
   "execution_count": 101,
   "metadata": {
    "execution": {
     "iopub.execute_input": "2022-04-07T04:46:54.4542Z",
     "iopub.status.busy": "2022-04-07T04:46:54.453628Z",
     "iopub.status.idle": "2022-04-07T04:46:54.463991Z",
     "shell.execute_reply": "2022-04-07T04:46:54.462943Z",
     "shell.execute_reply.started": "2022-04-07T04:46:54.454156Z"
    }
   },
   "outputs": [
    {
     "name": "stderr",
     "output_type": "stream",
     "text": [
      "[nltk_data] Downloading package stopwords to\n",
      "[nltk_data]     C:\\Users\\X475905\\AppData\\Roaming\\nltk_data...\n",
      "[nltk_data]   Package stopwords is already up-to-date!\n"
     ]
    }
   ],
   "source": [
    "# To get stop words.\n",
    "nltk.download('stopwords')\n",
    "\n",
    "def removeStopWords(tokenList):\n",
    "    '''\n",
    "    Create array of words with no punctuation or stop words.\n",
    "    :param tokenList: tokenized list\n",
    "    :return: array of words with no punctuation or stop words.\n",
    "    '''\n",
    "    stopWords = set(stopwords.words('english'))\n",
    "    shorterSentences = []  # Declare empty array of sentences.\n",
    "\n",
    "    for sentence in tokenList:\n",
    "        shorterSentence = []  # Declare empty array of words in single sentence.\n",
    "        for word in sentence:\n",
    "            if word not in stopWords:\n",
    "\n",
    "                # Remove leading and trailing spaces.\n",
    "                word = word.strip()\n",
    "\n",
    "                # Ignore single character words and digits.\n",
    "                if (len(word) > 1 and word.isdigit() == False):\n",
    "                    # Add remaining words to list.\n",
    "                    shorterSentence.append(word)\n",
    "        shorterSentences.append(shorterSentence)\n",
    "    return shorterSentences"
   ]
  },
  {
   "cell_type": "code",
   "execution_count": 102,
   "metadata": {
    "execution": {
     "iopub.execute_input": "2022-04-07T04:46:54.466339Z",
     "iopub.status.busy": "2022-04-07T04:46:54.466034Z",
     "iopub.status.idle": "2022-04-07T04:46:55.060605Z",
     "shell.execute_reply": "2022-04-07T04:46:55.059615Z",
     "shell.execute_reply.started": "2022-04-07T04:46:54.466299Z"
    }
   },
   "outputs": [
    {
     "name": "stdout",
     "output_type": "stream",
     "text": [
      "Sample sentence BEFORE removing stop words:\n",
      "['polyscimajor', 'epa', 'chief', 'doesn', 't', 'think', 'carbon', 'dioxide', 'is', 'main', 'cause', 'of', 'global', 'warming', 'and', 'wait', 'what', 'https', 't', 'co', 'yelvcefxkc', 'via', 'mashable']\n",
      "\n",
      "\n",
      "Sample sentence AFTER removing stop words:\n",
      "['polyscimajor', 'epa', 'chief', 'think', 'carbon', 'dioxide', 'main', 'cause', 'global', 'warming', 'wait', 'https', 'co', 'yelvcefxkc', 'via', 'mashable']\n"
     ]
    }
   ],
   "source": [
    "tokenizedNoStopLi = removeStopWords(tokenizedLi)\n",
    "\n",
    "print(f\"Sample sentence BEFORE removing stop words:\\n{tokenizedLi[0]}\")\n",
    "print(f\"\\n\\nSample sentence AFTER removing stop words:\\n{tokenizedNoStopLi[0]}\")"
   ]
  },
  {
   "cell_type": "markdown",
   "metadata": {},
   "source": [
    "You can see the second set of the array now no longer contains some insignificant words such as \"is\", \"an\", \"as\" and \"it\"."
   ]
  },
  {
   "cell_type": "markdown",
   "metadata": {},
   "source": [
    "## Stemming\n",
    "English words are often time variations of a root word. Stemming rebuilds sentences by removing suffixes from words. It potentially improves the sentiment algorithm by accepting different words as one word as long as they were originated from the same stem."
   ]
  },
  {
   "cell_type": "code",
   "execution_count": 103,
   "metadata": {
    "execution": {
     "iopub.execute_input": "2022-04-07T04:46:55.06213Z",
     "iopub.status.busy": "2022-04-07T04:46:55.061898Z",
     "iopub.status.idle": "2022-04-07T04:46:55.06795Z",
     "shell.execute_reply": "2022-04-07T04:46:55.066996Z",
     "shell.execute_reply.started": "2022-04-07T04:46:55.062102Z"
    }
   },
   "outputs": [],
   "source": [
    "def stemWords(sentenceArrays):\n",
    "    '''\n",
    "    Removes suffixes and rebuilds the sentences.\n",
    "    :param sentenceArrays: stentences list\n",
    "    :return: array of sentences without suffixes\n",
    "    '''\n",
    "    ps = PorterStemmer()\n",
    "    stemmedSentences = []\n",
    "    for sentenceArray in sentenceArrays:\n",
    "        stemmedArray = []  # Declare empty array of words.\n",
    "        for word in sentenceArray:\n",
    "            stemmedArray.append(ps.stem(word))  # Add stemmed word.\n",
    "\n",
    "        # Convert array back to sentence of stemmed words.\n",
    "        delimeter = ' '\n",
    "        sentence = delimeter.join(stemmedArray)\n",
    "\n",
    "        # Append stemmed sentence to list of sentences.\n",
    "        stemmedSentences.append(sentence)\n",
    "    return stemmedSentences"
   ]
  },
  {
   "cell_type": "code",
   "execution_count": 104,
   "metadata": {
    "execution": {
     "iopub.execute_input": "2022-04-07T04:46:55.069372Z",
     "iopub.status.busy": "2022-04-07T04:46:55.069142Z",
     "iopub.status.idle": "2022-04-07T04:47:11.166414Z",
     "shell.execute_reply": "2022-04-07T04:47:11.165457Z",
     "shell.execute_reply.started": "2022-04-07T04:46:55.069344Z"
    }
   },
   "outputs": [
    {
     "name": "stdout",
     "output_type": "stream",
     "text": [
      "Sample sentence BEFORE stemming:\n",
      "['polyscimajor', 'epa', 'chief', 'think', 'carbon', 'dioxide', 'main', 'cause', 'global', 'warming', 'wait', 'https', 'co', 'yelvcefxkc', 'via', 'mashable']\n",
      "\n",
      "Sample sentence AFTER stemming:\n",
      "polyscimajor epa chief think carbon dioxid main caus global warm wait http co yelvcefxkc via mashabl\n"
     ]
    }
   ],
   "source": [
    "stemmedLi = stemWords(tokenizedNoStopLi)\n",
    "\n",
    "print(f\"Sample sentence BEFORE stemming:\\n{tokenizedNoStopLi[0]}\")\n",
    "print(f\"\\nSample sentence AFTER stemming:\\n{stemmedLi[0]}\")"
   ]
  },
  {
   "cell_type": "markdown",
   "metadata": {},
   "source": []
  },
  {
   "cell_type": "markdown",
   "metadata": {},
   "source": [
    "## Vectorization\n",
    "Now the stemmed sentences will be vectorized. It essentially transforms all the existing words into numbers so they can be fed to various big data algorithms."
   ]
  },
  {
   "cell_type": "code",
   "execution_count": 105,
   "metadata": {
    "execution": {
     "iopub.execute_input": "2022-04-07T04:47:11.168425Z",
     "iopub.status.busy": "2022-04-07T04:47:11.167796Z",
     "iopub.status.idle": "2022-04-07T04:47:11.173823Z",
     "shell.execute_reply": "2022-04-07T04:47:11.173005Z",
     "shell.execute_reply.started": "2022-04-07T04:47:11.168388Z"
    }
   },
   "outputs": [],
   "source": [
    "def vectorizeList(stemmedList, ngramRangeStart, ngramRangeEnd):\n",
    "    '''\n",
    "    Creates a matrix of word vectors.\n",
    "    :param stemmedList: stemmed sentence list\n",
    "    :return: matrix of word vectors and vocabulary dictionary\n",
    "    '''\n",
    "    cv = CountVectorizer(binary=True, ngram_range=(ngramRangeStart, ngramRangeEnd))\n",
    "    cv.fit(stemmedList)\n",
    "    X = cv.transform(stemmedList)\n",
    "\n",
    "    return X, cv.vocabulary_"
   ]
  },
  {
   "cell_type": "code",
   "execution_count": 106,
   "metadata": {
    "execution": {
     "iopub.execute_input": "2022-04-07T04:47:11.175714Z",
     "iopub.status.busy": "2022-04-07T04:47:11.175455Z",
     "iopub.status.idle": "2022-04-07T04:47:13.126016Z",
     "shell.execute_reply": "2022-04-07T04:47:13.125123Z",
     "shell.execute_reply.started": "2022-04-07T04:47:11.175684Z"
    }
   },
   "outputs": [],
   "source": [
    "vectorizedTweets, vectorDictionary = vectorizeList(stemmedLi, 1, 1)"
   ]
  },
  {
   "cell_type": "markdown",
   "metadata": {},
   "source": [
    "Let's look into 2 different sample sentences to understand better what vectorization does"
   ]
  },
  {
   "cell_type": "code",
   "execution_count": 107,
   "metadata": {
    "execution": {
     "iopub.execute_input": "2022-04-07T04:47:13.127648Z",
     "iopub.status.busy": "2022-04-07T04:47:13.127397Z",
     "iopub.status.idle": "2022-04-07T04:47:13.133739Z",
     "shell.execute_reply": "2022-04-07T04:47:13.132909Z",
     "shell.execute_reply.started": "2022-04-07T04:47:13.127615Z"
    }
   },
   "outputs": [
    {
     "name": "stdout",
     "output_type": "stream",
     "text": [
      "Sample sentence #1:\n",
      "polyscimajor epa chief think carbon dioxid main caus global warm wait http co yelvcefxkc via mashabl\n",
      "Sample sentence #2:\n",
      "like lack evid anthropogen global warm\n"
     ]
    }
   ],
   "source": [
    "print(f\"Sample sentence #1:\\n{stemmedLi[0]}\")\n",
    "print(f\"Sample sentence #2:\\n{stemmedLi[1]}\")"
   ]
  },
  {
   "cell_type": "markdown",
   "metadata": {},
   "source": [
    "Notice these 2 sentences have a couple of words in common - \"climat\", \"chang\""
   ]
  },
  {
   "cell_type": "code",
   "execution_count": 108,
   "metadata": {
    "execution": {
     "iopub.execute_input": "2022-04-07T04:47:13.136086Z",
     "iopub.status.busy": "2022-04-07T04:47:13.135524Z",
     "iopub.status.idle": "2022-04-07T04:47:13.148332Z",
     "shell.execute_reply": "2022-04-07T04:47:13.147457Z",
     "shell.execute_reply.started": "2022-04-07T04:47:13.136046Z"
    }
   },
   "outputs": [
    {
     "name": "stdout",
     "output_type": "stream",
     "text": [
      "\n",
      "#1 after vectorization:\n",
      "  (0, 4730)\t1\n",
      "  (0, 4855)\t1\n",
      "  (0, 5189)\t1\n",
      "  (0, 5632)\t1\n",
      "  (0, 7051)\t1\n",
      "  (0, 8239)\t1\n",
      "  (0, 10066)\t1\n",
      "  (0, 11370)\t1\n",
      "  (0, 15005)\t1\n",
      "  (0, 15240)\t1\n",
      "  (0, 18740)\t1\n",
      "  (0, 23584)\t1\n",
      "  (0, 25167)\t1\n",
      "  (0, 25544)\t1\n",
      "  (0, 25590)\t1\n",
      "  (0, 26749)\t1\n",
      "#2 after vectorization:\n",
      "  (0, 2669)\t1\n",
      "  (0, 8462)\t1\n",
      "  (0, 10066)\t1\n",
      "  (0, 14016)\t1\n",
      "  (0, 14445)\t1\n",
      "  (0, 25590)\t1\n"
     ]
    }
   ],
   "source": [
    "print(f\"\\n#1 after vectorization:\\n{vectorizedTweets[0]}\")\n",
    "print(f\"#2 after vectorization:\\n{vectorizedTweets[1]}\")"
   ]
  },
  {
   "cell_type": "markdown",
   "metadata": {},
   "source": [
    "The prints above show the results of 2 sample sentences after being ve. Each vector signifies a unique word in all tweets. For example, we already know they have 2 words in common; therefore, we can see 2 sets of vectors appearing in both sentences - **(0, 12943)** and **(0, 13774)** - which are representations of \"climat\" and \"chang\" respectively."
   ]
  },
  {
   "cell_type": "code",
   "execution_count": 109,
   "metadata": {
    "execution": {
     "iopub.execute_input": "2022-04-07T04:47:13.150948Z",
     "iopub.status.busy": "2022-04-07T04:47:13.14983Z",
     "iopub.status.idle": "2022-04-07T04:47:13.160962Z",
     "shell.execute_reply": "2022-04-07T04:47:13.159907Z",
     "shell.execute_reply.started": "2022-04-07T04:47:13.150902Z"
    }
   },
   "outputs": [
    {
     "data": {
      "text/plain": [
       "(15819, 27472)"
      ]
     },
     "execution_count": 109,
     "metadata": {},
     "output_type": "execute_result"
    }
   ],
   "source": [
    "vectorizedTweets.shape"
   ]
  },
  {
   "cell_type": "markdown",
   "metadata": {},
   "source": [
    "Based on the column size of our vectorized data, we can see there were 67195 unique words (no stop words, stemmed) in 43943 tweets in the dataset."
   ]
  },
  {
   "cell_type": "markdown",
   "metadata": {},
   "source": [
    "## Bi-Grams\n",
    "Using N-Grams, we can group N numbers of words together and analyze their frequencies for specific sentiment rating."
   ]
  },
  {
   "cell_type": "code",
   "execution_count": 110,
   "metadata": {
    "execution": {
     "iopub.execute_input": "2022-04-07T04:47:13.163777Z",
     "iopub.status.busy": "2022-04-07T04:47:13.163203Z",
     "iopub.status.idle": "2022-04-07T04:47:13.174414Z",
     "shell.execute_reply": "2022-04-07T04:47:13.173375Z",
     "shell.execute_reply.started": "2022-04-07T04:47:13.163733Z"
    }
   },
   "outputs": [],
   "source": [
    "def generateWordList(wordDf, sentimentScore, n_gram_size):\n",
    "    resultDf = wordDf[(wordDf['sentiment'] == sentimentScore)]\n",
    "\n",
    "    sentences = [sentence.split() for sentence in resultDf['transformedTweets']]\n",
    "    wordArray = []\n",
    "    for i in range(0, len(sentences)):\n",
    "        wordArray += sentences[i]\n",
    "\n",
    "    counterList = Counter(ngrams(wordArray, n_gram_size)).most_common(80)\n",
    "\n",
    "    counterDf = pd.DataFrame()\n",
    "\n",
    "    delimiter = ' '\n",
    "    print(f\"\\n***N-Gram (Sentiment: {sentimentScore})\")\n",
    "    for i in range(0, len(counterList)):\n",
    "        counterDict = {\n",
    "            \"N-Gram\" : delimiter.join(counterList[i][0])\n",
    "            ,\"Occurrences\" : counterList[i][1]\n",
    "        }\n",
    "        # convert dict to series before concating to the dataframe.\n",
    "        counterDict = pd.DataFrame(counterDict, index=[0])\n",
    "        counterDf = pd.concat([counterDf, counterDict], ignore_index=True)\n",
    "\n",
    "    return counterDf"
   ]
  },
  {
   "cell_type": "code",
   "execution_count": 111,
   "metadata": {
    "execution": {
     "iopub.execute_input": "2022-04-07T04:47:13.176625Z",
     "iopub.status.busy": "2022-04-07T04:47:13.176377Z",
     "iopub.status.idle": "2022-04-07T04:47:13.202117Z",
     "shell.execute_reply": "2022-04-07T04:47:13.201265Z",
     "shell.execute_reply.started": "2022-04-07T04:47:13.176595Z"
    }
   },
   "outputs": [],
   "source": [
    "# N-Gram variables\n",
    "SIZE = 2\n",
    "# add transformedTweets column to the original dataset with the stemmed data.\n",
    "df['transformedTweets'] = stemmedLi\n",
    "dfSub = df[['sentiment', 'transformedTweets']]"
   ]
  },
  {
   "cell_type": "code",
   "execution_count": null,
   "metadata": {
    "execution": {
     "iopub.execute_input": "2022-04-07T04:47:14.366585Z",
     "iopub.status.busy": "2022-04-07T04:47:14.365972Z",
     "iopub.status.idle": "2022-04-07T04:47:15.336772Z",
     "shell.execute_reply": "2022-04-07T04:47:15.335927Z",
     "shell.execute_reply.started": "2022-04-07T04:47:14.366552Z"
    }
   },
   "outputs": [],
   "source": []
  },
  {
   "cell_type": "markdown",
   "metadata": {},
   "source": [
    "Overall, it seems like tri-grams grab more accurate actions or emotions associated with climate change or global warming."
   ]
  },
  {
   "cell_type": "markdown",
   "metadata": {},
   "source": [
    "# Model Development\n",
    "Various models will be built to predict the sentiment of tweets pertaining to climate change."
   ]
  },
  {
   "cell_type": "code",
   "execution_count": 112,
   "metadata": {
    "execution": {
     "iopub.execute_input": "2022-04-07T05:37:26.603444Z",
     "iopub.status.busy": "2022-04-07T05:37:26.603132Z",
     "iopub.status.idle": "2022-04-07T05:37:26.613376Z",
     "shell.execute_reply": "2022-04-07T05:37:26.612751Z",
     "shell.execute_reply.started": "2022-04-07T05:37:26.603414Z"
    }
   },
   "outputs": [],
   "source": [
    "def evaluateModel(model, X_test, y_test, title):\n",
    "    '''\n",
    "    print out classification scores\n",
    "    :param model: used model\n",
    "    :param X_test:\n",
    "    :param y_test:\n",
    "    :param title: title of the model\n",
    "    '''\n",
    "    print(\"\\n*** \" + title + \" ***\")\n",
    "    predictions = model.predict(X_test)\n",
    "    accuracy = metrics.accuracy_score(y_test, predictions)\n",
    "    recall = metrics.recall_score(y_test, predictions, average='weighted')\n",
    "    precision = metrics.precision_score(y_test, predictions, average='weighted')\n",
    "    f1 = metrics.f1_score(y_test, predictions, average='weighted')\n",
    "\n",
    "    clsScoreDict = {\n",
    "        \"accuracy\": accuracy\n",
    "        , \"recall\": recall\n",
    "        , \"precision\": precision\n",
    "        , \"f1\": f1\n",
    "    }\n",
    "\n",
    "    print(\"Accuracy:  \" + str(accuracy))\n",
    "    print(\"Precision: \" + str(precision))\n",
    "    print(\"Recall:    \" + str(recall))\n",
    "    print(\"F1:        \" + str(f1))\n",
    "    print(\"\\n\\n\")\n",
    "\n",
    "    return clsScoreDict"
   ]
  },
  {
   "cell_type": "code",
   "execution_count": 113,
   "metadata": {
    "execution": {
     "iopub.execute_input": "2022-04-07T05:37:35.848994Z",
     "iopub.status.busy": "2022-04-07T05:37:35.848686Z",
     "iopub.status.idle": "2022-04-07T05:37:35.855887Z",
     "shell.execute_reply": "2022-04-07T05:37:35.854945Z",
     "shell.execute_reply.started": "2022-04-07T05:37:35.848965Z"
    }
   },
   "outputs": [],
   "source": [
    "def modelAndPredict(X, target, model):\n",
    "    '''\n",
    "    Build model and predict scores.\n",
    "\n",
    "    :param X: X contains the stemmed and vectorized sentences.\n",
    "    :param target: the sentiment rating\n",
    "    :param model: selected model\n",
    "    :return: X_test, y_test, and y_predicted values.\n",
    "    '''\n",
    "\n",
    "    modelType = model.__class__.__name__\n",
    "\n",
    "    # Create training set with 75% of data and test set with 25% of data.\n",
    "    X_train, X_test, y_train, y_test = train_test_split(\n",
    "        X, target, train_size=0.75\n",
    "    )\n",
    "\n",
    "    # Build the model with the training data.\n",
    "    clfModel = model.fit(X_train, y_train)\n",
    "    clsScoreDict = evaluateModel(clfModel, X_test, y_test, modelType)\n",
    "\n",
    "\n",
    "    # Predict target values.\n",
    "    y_prediction = model.predict(X_test)\n",
    "\n",
    "    return X_test, y_test, y_prediction, clsScoreDict"
   ]
  },
  {
   "cell_type": "code",
   "execution_count": 114,
   "metadata": {
    "execution": {
     "iopub.execute_input": "2022-04-07T04:47:18.836123Z",
     "iopub.status.busy": "2022-04-07T04:47:18.835736Z",
     "iopub.status.idle": "2022-04-07T04:47:18.848814Z",
     "shell.execute_reply": "2022-04-07T04:47:18.847912Z",
     "shell.execute_reply.started": "2022-04-07T04:47:18.836088Z"
    }
   },
   "outputs": [],
   "source": [
    "def showFormattedConfusionMatrix(y_test, y_predicted):\n",
    "    '''\n",
    "    Draw the confusion matrix.\n",
    "    :param y_test\n",
    "    :param y_predicted\n",
    "    :return:\n",
    "    '''\n",
    "    # print a simple confusion matrix\n",
    "    cm = metrics.confusion_matrix(y_test.values, y_predicted)\n",
    "    print(cm)\n",
    "\n",
    "    # Show confusion matrix with colored background.\n",
    "    Index = ['Actual -1', 'Actual 0', 'Actual 1', 'Actual 2', ]\n",
    "    Cols = ['Pred -1', 'Pred 0', 'Pred 1', 'Pred 2']\n",
    "    df = pd.DataFrame(cm, index=Index, columns=Cols)\n",
    "    plt.figure(figsize=(4, 4))\n",
    "\n",
    "    ax = sns.heatmap(df, cmap='Blues', annot=True, fmt='g')\n",
    "    bottom, top = ax.get_ylim()\n",
    "    ax.set(title=\"Movie Review Sentiment\")\n",
    "    ax.set_ylim(bottom + 0.5, top - 0.5)\n",
    "    ax.set_xticklabels(ax.get_xticklabels(), rotation=30,\n",
    "                       horizontalalignment='right')\n",
    "    ax.set_yticklabels(ax.get_yticklabels(), rotation=0,\n",
    "                       horizontalalignment='right')"
   ]
  },
  {
   "cell_type": "code",
   "execution_count": 115,
   "metadata": {
    "execution": {
     "iopub.execute_input": "2022-04-07T04:47:18.850598Z",
     "iopub.status.busy": "2022-04-07T04:47:18.850289Z",
     "iopub.status.idle": "2022-04-07T04:47:22.247251Z",
     "shell.execute_reply": "2022-04-07T04:47:22.246414Z",
     "shell.execute_reply.started": "2022-04-07T04:47:18.850563Z"
    }
   },
   "outputs": [],
   "source": [
    "# bi-gram vectorization\n",
    "NGRAM_RANGE_START = 2\n",
    "NGRAM_RANGE_END = 2\n",
    "\n",
    "vectorizedTweets2, vectorDictionary2 = vectorizeList(stemmedLi, NGRAM_RANGE_START, NGRAM_RANGE_END)"
   ]
  },
  {
   "cell_type": "code",
   "execution_count": 116,
   "metadata": {
    "execution": {
     "iopub.execute_input": "2022-04-07T04:47:22.24907Z",
     "iopub.status.busy": "2022-04-07T04:47:22.248738Z",
     "iopub.status.idle": "2022-04-07T04:47:25.987239Z",
     "shell.execute_reply": "2022-04-07T04:47:25.986353Z",
     "shell.execute_reply.started": "2022-04-07T04:47:22.249029Z"
    }
   },
   "outputs": [],
   "source": [
    "# tri-gram vectorization\n",
    "NGRAM_RANGE_START = 3\n",
    "NGRAM_RANGE_END = 3\n",
    "\n",
    "vectorizedTweets3, vectorDictionary3 = vectorizeList(stemmedLi, NGRAM_RANGE_START, NGRAM_RANGE_END)"
   ]
  },
  {
   "cell_type": "code",
   "execution_count": 117,
   "metadata": {
    "execution": {
     "iopub.execute_input": "2022-04-07T04:47:25.988996Z",
     "iopub.status.busy": "2022-04-07T04:47:25.988717Z",
     "iopub.status.idle": "2022-04-07T04:47:32.284304Z",
     "shell.execute_reply": "2022-04-07T04:47:32.283083Z",
     "shell.execute_reply.started": "2022-04-07T04:47:25.988956Z"
    }
   },
   "outputs": [],
   "source": [
    "# bi-gram & tri-gram vectorization\n",
    "NGRAM_RANGE_START = 2\n",
    "NGRAM_RANGE_END = 3\n",
    "\n",
    "vectorizedTweets23, vectorDictionary23 = vectorizeList(stemmedLi, NGRAM_RANGE_START, NGRAM_RANGE_END)"
   ]
  },
  {
   "cell_type": "markdown",
   "metadata": {},
   "source": [
    "## 1. Logistic Regression"
   ]
  },
  {
   "cell_type": "code",
   "execution_count": 118,
   "metadata": {
    "execution": {
     "iopub.execute_input": "2022-04-07T04:47:32.286525Z",
     "iopub.status.busy": "2022-04-07T04:47:32.285709Z",
     "iopub.status.idle": "2022-04-07T04:47:32.292205Z",
     "shell.execute_reply": "2022-04-07T04:47:32.291399Z",
     "shell.execute_reply.started": "2022-04-07T04:47:32.28648Z"
    }
   },
   "outputs": [],
   "source": [
    "model = LogisticRegression()"
   ]
  },
  {
   "cell_type": "code",
   "execution_count": 119,
   "metadata": {
    "execution": {
     "iopub.execute_input": "2022-04-07T04:47:32.293689Z",
     "iopub.status.busy": "2022-04-07T04:47:32.293336Z",
     "iopub.status.idle": "2022-04-07T04:47:45.629316Z",
     "shell.execute_reply": "2022-04-07T04:47:45.627206Z",
     "shell.execute_reply.started": "2022-04-07T04:47:32.293661Z"
    }
   },
   "outputs": [
    {
     "name": "stderr",
     "output_type": "stream",
     "text": [
      "C:\\Users\\X475905\\OneDrive - Old Mutual\\Documents\\empty\\lib\\site-packages\\sklearn\\linear_model\\_logistic.py:814: ConvergenceWarning: lbfgs failed to converge (status=1):\n",
      "STOP: TOTAL NO. of ITERATIONS REACHED LIMIT.\n",
      "\n",
      "Increase the number of iterations (max_iter) or scale the data as shown in:\n",
      "    https://scikit-learn.org/stable/modules/preprocessing.html\n",
      "Please also refer to the documentation for alternative solver options:\n",
      "    https://scikit-learn.org/stable/modules/linear_model.html#logistic-regression\n",
      "  n_iter_i = _check_optimize_result(\n"
     ]
    },
    {
     "name": "stdout",
     "output_type": "stream",
     "text": [
      "\n",
      "*** LogisticRegression ***\n",
      "Accuracy:  0.7372945638432364\n",
      "Precision: 0.7305084567104512\n",
      "Recall:    0.7372945638432364\n",
      "F1:        0.7286740230860643\n",
      "\n",
      "\n",
      "\n",
      "[[ 146   55  127    9]\n",
      " [  25  251  234   41]\n",
      " [  31  111 1792  162]\n",
      " [   5   26  213  727]]\n"
     ]
    },
    {
     "data": {
      "image/png": "[encoded data removed]",
      "text/plain": [
       "<Figure size 288x288 with 2 Axes>"
      ]
     },
     "metadata": {},
     "output_type": "display_data"
    }
   ],
   "source": [
    "X_test, y_test, y_predicted, lrScoreDict = modelAndPredict(vectorizedTweets, df['sentiment'], model)\n",
    "showFormattedConfusionMatrix(y_test, y_predicted)"
   ]
  },
  {
   "cell_type": "markdown",
   "metadata": {},
   "source": [
    "### Bi-Gram Logistic Regression"
   ]
  },
  {
   "cell_type": "code",
   "execution_count": 120,
   "metadata": {
    "execution": {
     "iopub.execute_input": "2022-04-07T04:47:45.631103Z",
     "iopub.status.busy": "2022-04-07T04:47:45.630777Z",
     "iopub.status.idle": "2022-04-07T04:48:16.58301Z",
     "shell.execute_reply": "2022-04-07T04:48:16.582153Z",
     "shell.execute_reply.started": "2022-04-07T04:47:45.631071Z"
    }
   },
   "outputs": [
    {
     "name": "stderr",
     "output_type": "stream",
     "text": [
      "C:\\Users\\X475905\\OneDrive - Old Mutual\\Documents\\empty\\lib\\site-packages\\sklearn\\linear_model\\_logistic.py:814: ConvergenceWarning: lbfgs failed to converge (status=1):\n",
      "STOP: TOTAL NO. of ITERATIONS REACHED LIMIT.\n",
      "\n",
      "Increase the number of iterations (max_iter) or scale the data as shown in:\n",
      "    https://scikit-learn.org/stable/modules/preprocessing.html\n",
      "Please also refer to the documentation for alternative solver options:\n",
      "    https://scikit-learn.org/stable/modules/linear_model.html#logistic-regression\n",
      "  n_iter_i = _check_optimize_result(\n"
     ]
    },
    {
     "name": "stdout",
     "output_type": "stream",
     "text": [
      "\n",
      "*** LogisticRegression ***\n",
      "Accuracy:  0.7044247787610619\n",
      "Precision: 0.7025310123536809\n",
      "Recall:    0.7044247787610619\n",
      "F1:        0.684331210157729\n",
      "\n",
      "\n",
      "\n",
      "[[ 105   45  152   13]\n",
      " [   9  192  353   41]\n",
      " [  11   95 1872  143]\n",
      " [   3   12  292  617]]\n"
     ]
    },
    {
     "data": {
      "image/png": "[encoded data removed]",
      "text/plain": [
       "<Figure size 288x288 with 2 Axes>"
      ]
     },
     "metadata": {},
     "output_type": "display_data"
    }
   ],
   "source": [
    "X_test, y_test, y_predicted, lrScoreDict2 = modelAndPredict(vectorizedTweets2, df['sentiment'], model)\n",
    "showFormattedConfusionMatrix(y_test, y_predicted)"
   ]
  },
  {
   "cell_type": "markdown",
   "metadata": {},
   "source": [
    "### Tri-gram Logistic Regression"
   ]
  },
  {
   "cell_type": "code",
   "execution_count": 121,
   "metadata": {
    "execution": {
     "iopub.execute_input": "2022-04-07T04:48:16.584959Z",
     "iopub.status.busy": "2022-04-07T04:48:16.584581Z",
     "iopub.status.idle": "2022-04-07T04:48:51.828105Z",
     "shell.execute_reply": "2022-04-07T04:48:51.827161Z",
     "shell.execute_reply.started": "2022-04-07T04:48:16.584915Z"
    }
   },
   "outputs": [
    {
     "name": "stderr",
     "output_type": "stream",
     "text": [
      "C:\\Users\\X475905\\OneDrive - Old Mutual\\Documents\\empty\\lib\\site-packages\\sklearn\\linear_model\\_logistic.py:814: ConvergenceWarning: lbfgs failed to converge (status=1):\n",
      "STOP: TOTAL NO. of ITERATIONS REACHED LIMIT.\n",
      "\n",
      "Increase the number of iterations (max_iter) or scale the data as shown in:\n",
      "    https://scikit-learn.org/stable/modules/preprocessing.html\n",
      "Please also refer to the documentation for alternative solver options:\n",
      "    https://scikit-learn.org/stable/modules/linear_model.html#logistic-regression\n",
      "  n_iter_i = _check_optimize_result(\n"
     ]
    },
    {
     "name": "stdout",
     "output_type": "stream",
     "text": [
      "\n",
      "*** LogisticRegression ***\n",
      "Accuracy:  0.6758533501896333\n",
      "Precision: 0.6928624473781803\n",
      "Recall:    0.6758533501896333\n",
      "F1:        0.629966653105123\n",
      "\n",
      "\n",
      "\n",
      "[[  63   11  235   17]\n",
      " [   1   91  456   31]\n",
      " [  10   33 1996  102]\n",
      " [   2    8  376  523]]\n"
     ]
    },
    {
     "data": {
      "image/png": "[encoded data removed]",
      "text/plain": [
       "<Figure size 288x288 with 2 Axes>"
      ]
     },
     "metadata": {},
     "output_type": "display_data"
    }
   ],
   "source": [
    "X_test, y_test, y_predicted, lrScoreDict3 = modelAndPredict(vectorizedTweets3, df['sentiment'], model)\n",
    "showFormattedConfusionMatrix(y_test, y_predicted)"
   ]
  },
  {
   "cell_type": "markdown",
   "metadata": {},
   "source": [
    "### Bi-Gram & Tri-Gram Logistic Regression\n",
    "Note that I was not able to vectorize data ranging from 1 to 3-gram due to memory issue on my device."
   ]
  },
  {
   "cell_type": "code",
   "execution_count": 122,
   "metadata": {
    "execution": {
     "iopub.execute_input": "2022-04-07T04:48:51.829411Z",
     "iopub.status.busy": "2022-04-07T04:48:51.829214Z",
     "iopub.status.idle": "2022-04-07T04:49:47.588753Z",
     "shell.execute_reply": "2022-04-07T04:49:47.587687Z",
     "shell.execute_reply.started": "2022-04-07T04:48:51.829385Z"
    }
   },
   "outputs": [
    {
     "name": "stderr",
     "output_type": "stream",
     "text": [
      "C:\\Users\\X475905\\OneDrive - Old Mutual\\Documents\\empty\\lib\\site-packages\\sklearn\\linear_model\\_logistic.py:814: ConvergenceWarning: lbfgs failed to converge (status=1):\n",
      "STOP: TOTAL NO. of ITERATIONS REACHED LIMIT.\n",
      "\n",
      "Increase the number of iterations (max_iter) or scale the data as shown in:\n",
      "    https://scikit-learn.org/stable/modules/preprocessing.html\n",
      "Please also refer to the documentation for alternative solver options:\n",
      "    https://scikit-learn.org/stable/modules/linear_model.html#logistic-regression\n",
      "  n_iter_i = _check_optimize_result(\n"
     ]
    },
    {
     "name": "stdout",
     "output_type": "stream",
     "text": [
      "\n",
      "*** LogisticRegression ***\n",
      "Accuracy:  0.7150442477876107\n",
      "Precision: 0.7155067097017465\n",
      "Recall:    0.7150442477876107\n",
      "F1:        0.6943127383682262\n",
      "\n",
      "\n",
      "\n",
      "[[  96   56  179   18]\n",
      " [   5  212  309   42]\n",
      " [   7   84 1920  157]\n",
      " [   6    8  256  600]]\n"
     ]
    },
    {
     "data": {
      "image/png": "[encoded data removed]",
      "text/plain": [
       "<Figure size 288x288 with 2 Axes>"
      ]
     },
     "metadata": {},
     "output_type": "display_data"
    }
   ],
   "source": [
    "X_test, y_test, y_predicted, lrScoreDict23 = modelAndPredict(vectorizedTweets23, df['sentiment'], model)\n",
    "showFormattedConfusionMatrix(y_test, y_predicted)"
   ]
  },
  {
   "cell_type": "markdown",
   "metadata": {},
   "source": [
    "### N-gram Comparisons\n",
    "We have built different vectorized sentences using different ranges of N-grams (1, 2, 3, and 2 to 3). Each of them was fed to a logistic regression model and evaluated based on classification scores such as accuracy, precision, recall and F1. In this section, we will compare all the scores and see what N-gram has worked the best."
   ]
  },
  {
   "cell_type": "code",
   "execution_count": 123,
   "metadata": {
    "execution": {
     "iopub.execute_input": "2022-04-07T04:49:47.590675Z",
     "iopub.status.busy": "2022-04-07T04:49:47.590436Z",
     "iopub.status.idle": "2022-04-07T04:49:47.607007Z",
     "shell.execute_reply": "2022-04-07T04:49:47.606365Z",
     "shell.execute_reply.started": "2022-04-07T04:49:47.590644Z"
    }
   },
   "outputs": [
    {
     "data": {
      "text/html": [
       "<div>\n",
       "<style scoped>\n",
       "    .dataframe tbody tr th:only-of-type {\n",
       "        vertical-align: middle;\n",
       "    }\n",
       "\n",
       "    .dataframe tbody tr th {\n",
       "        vertical-align: top;\n",
       "    }\n",
       "\n",
       "    .dataframe thead th {\n",
       "        text-align: right;\n",
       "    }\n",
       "</style>\n",
       "<table border=\"1\" class=\"dataframe\">\n",
       "  <thead>\n",
       "    <tr style=\"text-align: right;\">\n",
       "      <th></th>\n",
       "      <th>accuracy</th>\n",
       "      <th>recall</th>\n",
       "      <th>precision</th>\n",
       "      <th>f1</th>\n",
       "    </tr>\n",
       "  </thead>\n",
       "  <tbody>\n",
       "    <tr>\n",
       "      <th>-</th>\n",
       "      <td>0.737295</td>\n",
       "      <td>0.737295</td>\n",
       "      <td>0.730508</td>\n",
       "      <td>0.728674</td>\n",
       "    </tr>\n",
       "    <tr>\n",
       "      <th>Bi-gram</th>\n",
       "      <td>0.704425</td>\n",
       "      <td>0.704425</td>\n",
       "      <td>0.702531</td>\n",
       "      <td>0.684331</td>\n",
       "    </tr>\n",
       "    <tr>\n",
       "      <th>Tri-gram</th>\n",
       "      <td>0.675853</td>\n",
       "      <td>0.675853</td>\n",
       "      <td>0.692862</td>\n",
       "      <td>0.629967</td>\n",
       "    </tr>\n",
       "    <tr>\n",
       "      <th>Bi-gram and Tri-gram</th>\n",
       "      <td>0.715044</td>\n",
       "      <td>0.715044</td>\n",
       "      <td>0.715507</td>\n",
       "      <td>0.694313</td>\n",
       "    </tr>\n",
       "  </tbody>\n",
       "</table>\n",
       "</div>"
      ],
      "text/plain": [
       "                      accuracy    recall  precision        f1\n",
       "-                     0.737295  0.737295   0.730508  0.728674\n",
       "Bi-gram               0.704425  0.704425   0.702531  0.684331\n",
       "Tri-gram              0.675853  0.675853   0.692862  0.629967\n",
       "Bi-gram and Tri-gram  0.715044  0.715044   0.715507  0.694313"
      ]
     },
     "execution_count": 123,
     "metadata": {},
     "output_type": "execute_result"
    }
   ],
   "source": [
    "lsScoreDf = pd.DataFrame(lrScoreDict, index=[\"-\"])\n",
    "lsScoreDf2 = pd.DataFrame(lrScoreDict2, index=[\"Bi-gram\"])\n",
    "lsScoreDf3 = pd.DataFrame(lrScoreDict3, index=[\"Tri-gram\"])\n",
    "lsScoreDf23 = pd.DataFrame(lrScoreDict23, index=[\"Bi-gram and Tri-gram\"])\n",
    "\n",
    "lsScoreComparisonDf = pd.concat([lsScoreDf, lsScoreDf2, lsScoreDf3, lsScoreDf23])\n",
    "lsScoreComparisonDf"
   ]
  },
  {
   "cell_type": "markdown",
   "metadata": {},
   "source": [
    "Logistic regression has worked the best when no N-gram was used to vectorize the sentences. Let's see if we can improve the model even further using different classification models."
   ]
  },
  {
   "cell_type": "markdown",
   "metadata": {},
   "source": [
    "## 2. Decision Tree"
   ]
  },
  {
   "cell_type": "code",
   "execution_count": 124,
   "metadata": {
    "execution": {
     "iopub.execute_input": "2022-04-07T04:49:47.609065Z",
     "iopub.status.busy": "2022-04-07T04:49:47.608321Z",
     "iopub.status.idle": "2022-04-07T04:49:47.612803Z",
     "shell.execute_reply": "2022-04-07T04:49:47.612238Z",
     "shell.execute_reply.started": "2022-04-07T04:49:47.609014Z"
    }
   },
   "outputs": [],
   "source": [
    "model = DecisionTreeClassifier(max_depth=20)"
   ]
  },
  {
   "cell_type": "code",
   "execution_count": 125,
   "metadata": {
    "execution": {
     "iopub.execute_input": "2022-04-07T04:49:47.614764Z",
     "iopub.status.busy": "2022-04-07T04:49:47.613855Z",
     "iopub.status.idle": "2022-04-07T04:49:52.103565Z",
     "shell.execute_reply": "2022-04-07T04:49:52.10266Z",
     "shell.execute_reply.started": "2022-04-07T04:49:47.61472Z"
    }
   },
   "outputs": [
    {
     "name": "stdout",
     "output_type": "stream",
     "text": [
      "\n",
      "*** DecisionTreeClassifier ***\n",
      "Accuracy:  0.6323640960809103\n",
      "Precision: 0.64340965252337\n",
      "Recall:    0.6323640960809103\n",
      "F1:        0.5931058357373048\n",
      "\n",
      "\n",
      "\n",
      "[[  65   33  200   10]\n",
      " [   9  153  447   21]\n",
      " [  29   54 1893  115]\n",
      " [   8    1  527  390]]\n"
     ]
    },
    {
     "data": {
      "image/png": "[encoded data removed]",
      "text/plain": [
       "<Figure size 288x288 with 2 Axes>"
      ]
     },
     "metadata": {},
     "output_type": "display_data"
    }
   ],
   "source": [
    "X_test, y_test, y_predicted, treeScoreDict = modelAndPredict(vectorizedTweets, df['sentiment'], model)\n",
    "showFormattedConfusionMatrix(y_test, y_predicted)"
   ]
  },
  {
   "cell_type": "markdown",
   "metadata": {},
   "source": [
    "## 3. Random Forest Classifier"
   ]
  },
  {
   "cell_type": "code",
   "execution_count": 126,
   "metadata": {
    "execution": {
     "iopub.execute_input": "2022-04-07T04:53:54.612313Z",
     "iopub.status.busy": "2022-04-07T04:53:54.611982Z",
     "iopub.status.idle": "2022-04-07T04:53:54.616734Z",
     "shell.execute_reply": "2022-04-07T04:53:54.615704Z",
     "shell.execute_reply.started": "2022-04-07T04:53:54.612278Z"
    }
   },
   "outputs": [],
   "source": [
    "model = RandomForestClassifier()"
   ]
  },
  {
   "cell_type": "code",
   "execution_count": 127,
   "metadata": {
    "execution": {
     "iopub.execute_input": "2022-04-07T04:53:54.669209Z",
     "iopub.status.busy": "2022-04-07T04:53:54.668359Z",
     "iopub.status.idle": "2022-04-07T04:58:21.45105Z",
     "shell.execute_reply": "2022-04-07T04:58:21.450238Z",
     "shell.execute_reply.started": "2022-04-07T04:53:54.66917Z"
    }
   },
   "outputs": [
    {
     "name": "stdout",
     "output_type": "stream",
     "text": [
      "\n",
      "*** RandomForestClassifier ***\n",
      "Accuracy:  0.7082174462705436\n",
      "Precision: 0.7147365503891425\n",
      "Recall:    0.7082174462705436\n",
      "F1:        0.6845267046752246\n",
      "\n",
      "\n",
      "\n",
      "[[  81   34  195   12]\n",
      " [   2  196  343   32]\n",
      " [   8   89 1942  125]\n",
      " [   2   10  302  582]]\n"
     ]
    },
    {
     "data": {
      "image/png": "[encoded data removed]",
      "text/plain": [
       "<Figure size 288x288 with 2 Axes>"
      ]
     },
     "metadata": {},
     "output_type": "display_data"
    }
   ],
   "source": [
    "X_test, y_test, y_predicted, rfScoreDict = modelAndPredict(vectorizedTweets, df['sentiment'], model)\n",
    "showFormattedConfusionMatrix(y_test, y_predicted)"
   ]
  },
  {
   "cell_type": "markdown",
   "metadata": {},
   "source": [
    "## 4. Extra Trees Classifier"
   ]
  },
  {
   "cell_type": "code",
   "execution_count": 128,
   "metadata": {
    "execution": {
     "iopub.execute_input": "2022-04-07T04:58:21.452952Z",
     "iopub.status.busy": "2022-04-07T04:58:21.452718Z",
     "iopub.status.idle": "2022-04-07T04:58:21.45756Z",
     "shell.execute_reply": "2022-04-07T04:58:21.456599Z",
     "shell.execute_reply.started": "2022-04-07T04:58:21.452924Z"
    }
   },
   "outputs": [],
   "source": [
    "model = ExtraTreesClassifier()"
   ]
  },
  {
   "cell_type": "code",
   "execution_count": 129,
   "metadata": {
    "execution": {
     "iopub.execute_input": "2022-04-07T04:58:21.458909Z",
     "iopub.status.busy": "2022-04-07T04:58:21.458683Z",
     "iopub.status.idle": "2022-04-07T05:05:15.187981Z",
     "shell.execute_reply": "2022-04-07T05:05:15.187275Z",
     "shell.execute_reply.started": "2022-04-07T04:58:21.45888Z"
    }
   },
   "outputs": [
    {
     "name": "stdout",
     "output_type": "stream",
     "text": [
      "\n",
      "*** ExtraTreesClassifier ***\n",
      "Accuracy:  0.7145385587863464\n",
      "Precision: 0.7207210065311231\n",
      "Recall:    0.7145385587863464\n",
      "F1:        0.6938525784718416\n",
      "\n",
      "\n",
      "\n",
      "[[  71   50  168   11]\n",
      " [   4  225  328   35]\n",
      " [   4  107 1882  124]\n",
      " [   1   10  287  648]]\n"
     ]
    },
    {
     "data": {
      "image/png": "[encoded data removed]",
      "text/plain": [
       "<Figure size 288x288 with 2 Axes>"
      ]
     },
     "metadata": {},
     "output_type": "display_data"
    }
   ],
   "source": [
    "X_test, y_test, y_predicted, xtreeScoreDict = modelAndPredict(vectorizedTweets, df['sentiment'], model)\n",
    "showFormattedConfusionMatrix(y_test, y_predicted)"
   ]
  },
  {
   "cell_type": "markdown",
   "metadata": {},
   "source": [
    "## 5. K Neighbors Classifier"
   ]
  },
  {
   "cell_type": "code",
   "execution_count": 130,
   "metadata": {
    "execution": {
     "iopub.execute_input": "2022-04-07T05:05:15.190187Z",
     "iopub.status.busy": "2022-04-07T05:05:15.189814Z",
     "iopub.status.idle": "2022-04-07T05:05:15.200756Z",
     "shell.execute_reply": "2022-04-07T05:05:15.199743Z",
     "shell.execute_reply.started": "2022-04-07T05:05:15.190148Z"
    }
   },
   "outputs": [],
   "source": [
    "model = KNeighborsClassifier()"
   ]
  },
  {
   "cell_type": "code",
   "execution_count": 131,
   "metadata": {
    "execution": {
     "iopub.execute_input": "2022-04-07T05:05:15.202543Z",
     "iopub.status.busy": "2022-04-07T05:05:15.202288Z",
     "iopub.status.idle": "2022-04-07T05:05:50.435625Z",
     "shell.execute_reply": "2022-04-07T05:05:50.434619Z",
     "shell.execute_reply.started": "2022-04-07T05:05:15.20251Z"
    }
   },
   "outputs": [
    {
     "name": "stdout",
     "output_type": "stream",
     "text": [
      "\n",
      "*** KNeighborsClassifier ***\n",
      "Accuracy:  0.4606826801517067\n",
      "Precision: 0.6004066590798711\n",
      "Recall:    0.4606826801517067\n",
      "F1:        0.4752437172789678\n",
      "\n",
      "\n",
      "\n",
      "[[  46  205   59    3]\n",
      " [  23  425  141    6]\n",
      " [  30 1001 1050   38]\n",
      " [  10  153  464  301]]\n"
     ]
    },
    {
     "data": {
      "image/png": "[encoded data removed]",
      "text/plain": [
       "<Figure size 288x288 with 2 Axes>"
      ]
     },
     "metadata": {},
     "output_type": "display_data"
    }
   ],
   "source": [
    "X_test, y_test, y_predicted, knnScoreDict = modelAndPredict(vectorizedTweets, df['sentiment'], model)\n",
    "showFormattedConfusionMatrix(y_test, y_predicted)"
   ]
  },
  {
   "cell_type": "markdown",
   "metadata": {},
   "source": [
    "## 6. Linear Support Vector Classifier (SVC)"
   ]
  },
  {
   "cell_type": "code",
   "execution_count": 132,
   "metadata": {
    "execution": {
     "iopub.execute_input": "2022-04-07T05:05:50.438439Z",
     "iopub.status.busy": "2022-04-07T05:05:50.437897Z",
     "iopub.status.idle": "2022-04-07T05:05:50.443412Z",
     "shell.execute_reply": "2022-04-07T05:05:50.442529Z",
     "shell.execute_reply.started": "2022-04-07T05:05:50.4384Z"
    }
   },
   "outputs": [],
   "source": [
    "model = SVC()"
   ]
  },
  {
   "cell_type": "code",
   "execution_count": 133,
   "metadata": {
    "execution": {
     "iopub.execute_input": "2022-04-07T05:05:50.445289Z",
     "iopub.status.busy": "2022-04-07T05:05:50.444939Z",
     "iopub.status.idle": "2022-04-07T05:14:14.986414Z",
     "shell.execute_reply": "2022-04-07T05:14:14.985572Z",
     "shell.execute_reply.started": "2022-04-07T05:05:50.445258Z"
    }
   },
   "outputs": [
    {
     "name": "stdout",
     "output_type": "stream",
     "text": [
      "\n",
      "*** SVC ***\n",
      "Accuracy:  0.7261694058154236\n",
      "Precision: 0.7333792787842899\n",
      "Recall:    0.7261694058154236\n",
      "F1:        0.6993959889388052\n",
      "\n",
      "\n",
      "\n",
      "[[  86   33  196   10]\n",
      " [   4  176  362   38]\n",
      " [   7   50 1955  137]\n",
      " [   1    5  240  655]]\n"
     ]
    },
    {
     "data": {
      "image/png": "[encoded data removed]",
      "text/plain": [
       "<Figure size 288x288 with 2 Axes>"
      ]
     },
     "metadata": {},
     "output_type": "display_data"
    }
   ],
   "source": [
    "X_test, y_test, y_predicted, svcScoreDict = modelAndPredict(vectorizedTweets, df['sentiment'], model)\n",
    "showFormattedConfusionMatrix(y_test, y_predicted)"
   ]
  },
  {
   "cell_type": "markdown",
   "metadata": {},
   "source": [
    "# Model Comparisons"
   ]
  },
  {
   "cell_type": "code",
   "execution_count": 136,
   "metadata": {
    "execution": {
     "iopub.execute_input": "2022-04-07T05:46:53.57776Z",
     "iopub.status.busy": "2022-04-07T05:46:53.577487Z",
     "iopub.status.idle": "2022-04-07T05:46:53.601854Z",
     "shell.execute_reply": "2022-04-07T05:46:53.601019Z",
     "shell.execute_reply.started": "2022-04-07T05:46:53.577731Z"
    }
   },
   "outputs": [
    {
     "data": {
      "text/html": [
       "<div>\n",
       "<style scoped>\n",
       "    .dataframe tbody tr th:only-of-type {\n",
       "        vertical-align: middle;\n",
       "    }\n",
       "\n",
       "    .dataframe tbody tr th {\n",
       "        vertical-align: top;\n",
       "    }\n",
       "\n",
       "    .dataframe thead th {\n",
       "        text-align: right;\n",
       "    }\n",
       "</style>\n",
       "<table border=\"1\" class=\"dataframe\">\n",
       "  <thead>\n",
       "    <tr style=\"text-align: right;\">\n",
       "      <th></th>\n",
       "      <th>accuracy</th>\n",
       "      <th>recall</th>\n",
       "      <th>precision</th>\n",
       "      <th>f1</th>\n",
       "    </tr>\n",
       "  </thead>\n",
       "  <tbody>\n",
       "    <tr>\n",
       "      <th>Logistic Regression</th>\n",
       "      <td>0.737295</td>\n",
       "      <td>0.737295</td>\n",
       "      <td>0.730508</td>\n",
       "      <td>0.728674</td>\n",
       "    </tr>\n",
       "    <tr>\n",
       "      <th>Linear Support Vector Classifier Classification</th>\n",
       "      <td>0.726169</td>\n",
       "      <td>0.726169</td>\n",
       "      <td>0.733379</td>\n",
       "      <td>0.699396</td>\n",
       "    </tr>\n",
       "    <tr>\n",
       "      <th>Ridge Classification</th>\n",
       "      <td>0.722630</td>\n",
       "      <td>0.722630</td>\n",
       "      <td>0.714945</td>\n",
       "      <td>0.714660</td>\n",
       "    </tr>\n",
       "    <tr>\n",
       "      <th>Extra Trees Classification</th>\n",
       "      <td>0.714539</td>\n",
       "      <td>0.714539</td>\n",
       "      <td>0.720721</td>\n",
       "      <td>0.693853</td>\n",
       "    </tr>\n",
       "    <tr>\n",
       "      <th>Random Forest Classification</th>\n",
       "      <td>0.708217</td>\n",
       "      <td>0.708217</td>\n",
       "      <td>0.714737</td>\n",
       "      <td>0.684527</td>\n",
       "    </tr>\n",
       "    <tr>\n",
       "      <th>Decision Tree</th>\n",
       "      <td>0.632364</td>\n",
       "      <td>0.632364</td>\n",
       "      <td>0.643410</td>\n",
       "      <td>0.593106</td>\n",
       "    </tr>\n",
       "    <tr>\n",
       "      <th>K Neighbors Classification</th>\n",
       "      <td>0.460683</td>\n",
       "      <td>0.460683</td>\n",
       "      <td>0.600407</td>\n",
       "      <td>0.475244</td>\n",
       "    </tr>\n",
       "  </tbody>\n",
       "</table>\n",
       "</div>"
      ],
      "text/plain": [
       "                                                 accuracy    recall  \\\n",
       "Logistic Regression                              0.737295  0.737295   \n",
       "Linear Support Vector Classifier Classification  0.726169  0.726169   \n",
       "Ridge Classification                             0.722630  0.722630   \n",
       "Extra Trees Classification                       0.714539  0.714539   \n",
       "Random Forest Classification                     0.708217  0.708217   \n",
       "Decision Tree                                    0.632364  0.632364   \n",
       "K Neighbors Classification                       0.460683  0.460683   \n",
       "\n",
       "                                                 precision        f1  \n",
       "Logistic Regression                               0.730508  0.728674  \n",
       "Linear Support Vector Classifier Classification   0.733379  0.699396  \n",
       "Ridge Classification                              0.714945  0.714660  \n",
       "Extra Trees Classification                        0.720721  0.693853  \n",
       "Random Forest Classification                      0.714737  0.684527  \n",
       "Decision Tree                                     0.643410  0.593106  \n",
       "K Neighbors Classification                        0.600407  0.475244  "
      ]
     },
     "execution_count": 136,
     "metadata": {},
     "output_type": "execute_result"
    }
   ],
   "source": [
    "lrScoreDf = pd.DataFrame(lrScoreDict, index=[\"Logistic Regression\"])\n",
    "treeScoreDf = pd.DataFrame(treeScoreDict, index=[\"Decision Tree\"])\n",
    "rfScoreDf = pd.DataFrame(rfScoreDict, index=[\"Random Forest Classification\"])\n",
    "xtreeScoreDf = pd.DataFrame(xtreeScoreDict, index=[\"Extra Trees Classification\"])\n",
    "knnScoreDf = pd.DataFrame(knnScoreDict, index=[\"K Neighbors Classification\"])\n",
    "svcScoreDf = pd.DataFrame(svcScoreDict, index=[\"Linear Support Vector Classifier Classification\"])\n",
    "ridgeScoreDf = pd.DataFrame(ridgeScoreDict, index=[\"Ridge Classification\"])\n",
    "\n",
    "clsCompDf = pd.concat([lrScoreDf, treeScoreDf, rfScoreDf, xtreeScoreDf, knnScoreDf, svcScoreDf, ridgeScoreDf])\n",
    "\n",
    "clsCompDf.sort_values(by=[\"accuracy\", \"f1\"], ascending = False)"
   ]
  },
  {
   "cell_type": "markdown",
   "metadata": {},
   "source": [
    "**Logistic Regression** seems to be performing the best because it has the highest accuracy, recall, precision and f1 among all models. **SVC** and **Ridge Classification** are also good runner-ups."
   ]
  },
  {
   "cell_type": "code",
   "execution_count": null,
   "metadata": {},
   "outputs": [],
   "source": []
  },
  {
   "cell_type": "code",
   "execution_count": null,
   "metadata": {},
   "outputs": [],
   "source": []
  },
  {
   "cell_type": "code",
   "execution_count": null,
   "metadata": {},
   "outputs": [],
   "source": []
  }
 ],
 "metadata": {
  "kernelspec": {
   "display_name": "Python 3 (ipykernel)",
   "language": "python",
   "name": "python3"
  },
  "language_info": {
   "codemirror_mode": {
    "name": "ipython",
    "version": 3
   },
   "file_extension": ".py",
   "mimetype": "text/x-python",
   "name": "python",
   "nbconvert_exporter": "python",
   "pygments_lexer": "ipython3",
   "version": "3.9.12"
  }
 },
 "nbformat": 4,
 "nbformat_minor": 4
}
