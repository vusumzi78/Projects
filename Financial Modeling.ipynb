{
 "cells": [
  {
   "cell_type": "markdown",
   "id": "af7844b3-781a-49a1-a2f1-2acb29ef2ed0",
   "metadata": {},
   "source": [
    "# Financial Modeling Project\n",
    "\n",
    "## Introduction\n",
    "\n",
    "In this project, we aim to develop a comprehensive financial model to analyze and project a company's future financial performance. Using historical data, we'll calculate key financial metrics, including Gross Profit, Operating Income, Earnings Before Tax (EBT), and Net Income. Additionally, we will derive important financial ratios such as Gross Profit Margin, Operating Margin, and Net Profit Margin to evaluate the company's financial health.\n",
    "\n",
    "The primary goal of this project is to forecast future financials based on historical trends and apply growth assumptions to provide insights into the company's potential future performance. This project not only serves as a practical application of financial modeling concepts but also as a demonstration of data manipulation and analysis using Python.\n"
   ]
  },
  {
   "cell_type": "markdown",
   "id": "8072b6e1-3baf-4569-b146-fa205fc2b755",
   "metadata": {},
   "source": [
    "## Load the Data"
   ]
  },
  {
   "cell_type": "code",
   "execution_count": 4,
   "id": "4c855502-5d52-46b3-bb7d-12b7ffbfd641",
   "metadata": {},
   "outputs": [],
   "source": [
    "import pandas as pd\n",
    "\n",
    "# Load the dataset\n",
    "df = pd.read_csv('financial_modeling_data.csv')\n"
   ]
  },
  {
   "cell_type": "markdown",
   "id": "30e3be2e-e216-4776-ba05-bdc87d9ec8f6",
   "metadata": {},
   "source": [
    "## Calculate Gross Profit"
   ]
  },
  {
   "cell_type": "code",
   "execution_count": 7,
   "id": "167c0325-d6b7-4c38-a89d-99c3c336fd39",
   "metadata": {},
   "outputs": [],
   "source": [
    "df['Gross_Profit'] = df['Revenue'] - df['COGS']\n"
   ]
  },
  {
   "cell_type": "markdown",
   "id": "d6aa4eb3-6848-4d5c-9644-7f5142258bcc",
   "metadata": {},
   "source": [
    "## Calculate Operating Income"
   ]
  },
  {
   "cell_type": "code",
   "execution_count": 10,
   "id": "c2db73db-1175-4ff3-8445-22e7d81471a7",
   "metadata": {},
   "outputs": [],
   "source": [
    "df['Operating_Income'] = df['Gross_Profit'] - df['Operating_Expenses']\n"
   ]
  },
  {
   "cell_type": "markdown",
   "id": "52015347-e458-4a0e-88f9-7307b653b8a9",
   "metadata": {},
   "source": [
    "## Calculate Earnings Before Tax (EBT)"
   ]
  },
  {
   "cell_type": "code",
   "execution_count": 14,
   "id": "0bb755f4-1486-4e43-a7f3-4de4d1212d95",
   "metadata": {},
   "outputs": [],
   "source": [
    "df['EBT'] = df['Operating_Income'] - df['Interest_Expense']\n"
   ]
  },
  {
   "cell_type": "markdown",
   "id": "8cafc241-87fc-4a7c-959d-eb4b0c0e366b",
   "metadata": {},
   "source": [
    "## Calculate Net Income"
   ]
  },
  {
   "cell_type": "code",
   "execution_count": 17,
   "id": "a68e1efb-8a78-4f02-84ee-f274fc4d76f4",
   "metadata": {},
   "outputs": [],
   "source": [
    "df['Net_Income'] = df['EBT'] - (df['EBT'] * df['Tax_Rate'])\n"
   ]
  },
  {
   "cell_type": "markdown",
   "id": "a515bd30-0250-4253-ae8f-287bc014fb52",
   "metadata": {},
   "source": [
    "## Financial Ratios"
   ]
  },
  {
   "cell_type": "code",
   "execution_count": 20,
   "id": "dffc7d3d-b28e-4661-8042-976d452a965e",
   "metadata": {},
   "outputs": [],
   "source": [
    "df['Gross_Profit_Margin'] = df['Gross_Profit'] / df['Revenue']\n",
    "df['Operating_Margin'] = df['Operating_Income'] / df['Revenue']\n",
    "df['Net_Profit_Margin'] = df['Net_Income'] / df['Revenue']\n"
   ]
  },
  {
   "cell_type": "markdown",
   "id": "2a2ecef0-f564-4112-8e57-4dc404420141",
   "metadata": {},
   "source": [
    "## Projection of Future Financials"
   ]
  },
  {
   "cell_type": "code",
   "execution_count": 23,
   "id": "6b5b9268-82b3-4b77-b2f1-65e26d65b686",
   "metadata": {},
   "outputs": [],
   "source": [
    "growth_rate = 0.05  # Example: 5% growth rate\n",
    "df['Projected_Revenue'] = df['Revenue'] * (1 + growth_rate)\n",
    "df['Projected_Gross_Profit'] = df['Projected_Revenue'] - df['COGS']  # Assuming COGS as same percentage\n",
    "df['Projected_Net_Income'] = df['Net_Income'] * (1 + growth_rate)\n"
   ]
  },
  {
   "cell_type": "markdown",
   "id": "e196858d-f3b8-48b0-bb52-7b5ced65b525",
   "metadata": {},
   "source": [
    "## Visualization"
   ]
  },
  {
   "cell_type": "code",
   "execution_count": 35,
   "id": "6cfd0e21-2fc1-4a2f-8330-4ffb30dc1145",
   "metadata": {},
   "outputs": [
    {
     "name": "stderr",
     "output_type": "stream",
     "text": [
      "No artists with labels found to put in legend.  Note that artists whose label start with an underscore are ignored when legend() is called with no argument.\n"
     ]
    },
    {
     "data": {
      "image/png": "[encoded data removed]",
      "text/plain": [
       "<Figure size 640x480 with 1 Axes>"
      ]
     },
     "metadata": {},
     "output_type": "display_data"
    }
   ],
   "source": [
    "# Set the x-axis to show major ticks every 6 months and minor ticks every month\n",
    "plt.gca().xaxis.set_major_formatter(mdates.DateFormatter('%Y-%m'))\n",
    "plt.gca().xaxis.set_major_locator(mdates.MonthLocator(interval=6))  # Show every 6 months\n",
    "plt.gca().xaxis.set_minor_locator(mdates.MonthLocator())  # Minor ticks for every month\n",
    "\n",
    "# Add gridlines for major and minor ticks\n",
    "plt.grid(True, which='major', axis='x', linestyle='--', linewidth=0.75)  # Grid for major ticks\n",
    "plt.grid(True, which='minor', axis='x', linestyle=':', linewidth=0.5)  # Grid for minor ticks\n",
    "\n",
    "plt.xticks(rotation=45)\n",
    "plt.legend()\n",
    "plt.tight_layout()\n",
    "plt.show()\n"
   ]
  },
  {
   "cell_type": "markdown",
   "id": "145a84be-e742-448d-b3c9-2159f408f5f3",
   "metadata": {},
   "source": [
    "## Conclusion\n",
    "\n",
    "Through this financial modeling project, we successfully analyzed the company's historical financial data and derived key performance indicators (KPIs) that provide insights into its financial health. By calculating Gross Profit, Operating Income, and Net Income, and projecting future financial performance, we gained valuable insights into potential revenue growth and profitability.\n",
    "\n",
    "The model's financial ratios, including Gross Profit Margin, Operating Margin, and Net Profit Margin, highlight areas where the company excels and where improvements could be made. The projections further enable us to anticipate future trends and make informed decisions.\n",
    "\n",
    "This project demonstrates the effectiveness of financial modeling in evaluating business performance and forecasting future outcomes. The techniques and methodologies applied here can be extended and customized for various other financial analyses and business scenarios.\n"
   ]
  },
  {
   "cell_type": "code",
   "execution_count": null,
   "id": "b847b5af-43db-4b0b-a504-fb49338fcc63",
   "metadata": {},
   "outputs": [],
   "source": []
  }
 ],
 "metadata": {
  "kernelspec": {
   "display_name": "Python 3 (ipykernel)",
   "language": "python",
   "name": "python3"
  },
  "language_info": {
   "codemirror_mode": {
    "name": "ipython",
    "version": 3
   },
   "file_extension": ".py",
   "mimetype": "text/x-python",
   "name": "python",
   "nbconvert_exporter": "python",
   "pygments_lexer": "ipython3",
   "version": "3.12.4"
  }
 },
 "nbformat": 4,
 "nbformat_minor": 5
}
