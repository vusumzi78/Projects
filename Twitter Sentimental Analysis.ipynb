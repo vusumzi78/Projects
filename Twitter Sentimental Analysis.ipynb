{
 "cells": [
  {
   "cell_type": "markdown",
   "id": "944f3e5b-3461-4d43-8f90-b05ddf32e142",
   "metadata": {},
   "source": [
    "# Twitter Sentiment Analysis\n",
    "\n",
    "### Introduction\n",
    "\n",
    "In this project, we explore the sentiment expressed in tweets to understand public opinion on a specific topic. Sentiment analysis, also known as opinion mining, involves determining whether a piece of writing is positive, negative, or neutral. Twitter, with its vast amount of real-time data, offers a rich source of textual information that can be analyzed to gauge public sentiment on current events, products, services, or social issues.\n",
    "\n",
    "### Objectives\n",
    "\n",
    "- **Data Collection:** Gather a dataset of tweets related to a specific topic or hashtag.\n",
    "- **Data Preprocessing:** Clean and preprocess the text data to remove noise and prepare it for analysis.\n",
    "- **Sentiment Analysis:** Use natural language processing (NLP) techniques to classify the sentiment of each tweet.\n",
    "- **Visualization:** Present the results through visualizations that highlight sentiment trends and key insights.\n",
    "- **Conclusion:** Draw meaningful conclusions from the sentiment analysis and discuss potential applications of the findings.\n"
   ]
  },
  {
   "cell_type": "markdown",
   "id": "182c24b9-1330-45a4-893b-9bc7524e9a7e",
   "metadata": {},
   "source": [
    "## Data Loading and Exploration"
   ]
  },
  {
   "cell_type": "code",
   "execution_count": 3,
   "id": "7cda26dd-3d2a-4b52-9127-64de34d97b3d",
   "metadata": {},
   "outputs": [
    {
     "name": "stdout",
     "output_type": "stream",
     "text": [
      "<class 'pandas.core.frame.DataFrame'>\n",
      "RangeIndex: 31962 entries, 0 to 31961\n",
      "Data columns (total 3 columns):\n",
      " #   Column  Non-Null Count  Dtype \n",
      "---  ------  --------------  ----- \n",
      " 0   id      31962 non-null  int64 \n",
      " 1   label   31962 non-null  int64 \n",
      " 2   tweet   31962 non-null  object\n",
      "dtypes: int64(2), object(1)\n",
      "memory usage: 749.2+ KB\n",
      "None\n",
      "First few rows of the dataset:\n",
      "   id  label                                              tweet\n",
      "0   1      0   @user when a father is dysfunctional and is s...\n",
      "1   2      0  @user @user thanks for #lyft credit i can't us...\n",
      "2   3      0                                bihday your majesty\n",
      "3   4      0  #model   i love u take with u all the time in ...\n",
      "4   5      0             factsguide: society now    #motivation\n"
     ]
    }
   ],
   "source": [
    "# Import necessary libraries\n",
    "import pandas as pd\n",
    "import matplotlib.pyplot as plt\n",
    "import seaborn as sns\n",
    "\n",
    "# Read the CSV file\n",
    "df = pd.read_csv('twitter.csv')\n",
    "\n",
    "# Display basic information about the dataset\n",
    "print(df.info())\n",
    "\n",
    "# Show the first few rows of the dataset\n",
    "print(\"\\\n",
    "First few rows of the dataset:\")\n",
    "print(df.head())\n",
    "\n"
   ]
  },
  {
   "cell_type": "code",
   "execution_count": 5,
   "id": "c949cbfe-9461-4c83-8bd8-59f28ac7a694",
   "metadata": {},
   "outputs": [
    {
     "name": "stdout",
     "output_type": "stream",
     "text": [
      "Basic statistics of numerical columns:\n",
      "                 id         label\n",
      "count  31962.000000  31962.000000\n",
      "mean   15981.500000      0.070146\n",
      "std     9226.778988      0.255397\n",
      "min        1.000000      0.000000\n",
      "25%     7991.250000      0.000000\n",
      "50%    15981.500000      0.000000\n",
      "75%    23971.750000      0.000000\n",
      "max    31962.000000      1.000000\n",
      "Missing values in each column:\n",
      "id       0\n",
      "label    0\n",
      "tweet    0\n",
      "dtype: int64\n",
      "Column names:\n",
      "['id', 'label', 'tweet']\n"
     ]
    }
   ],
   "source": [
    "# Display basic statistics of numerical columns\n",
    "print(\"\\\n",
    "Basic statistics of numerical columns:\")\n",
    "print(df.describe())\n",
    "\n",
    "# Check for missing values\n",
    "print(\"\\\n",
    "Missing values in each column:\")\n",
    "print(df.isnull().sum())\n",
    "\n",
    "# Print the column names\n",
    "print(\"\\\n",
    "Column names:\")\n",
    "print(df.columns.tolist())"
   ]
  },
  {
   "cell_type": "markdown",
   "id": "6635a065-eae8-4be1-8f2f-ac7e6229add9",
   "metadata": {},
   "source": [
    "## Sentiment Distribution"
   ]
  },
  {
   "cell_type": "code",
   "execution_count": 12,
   "id": "66ec0c0e-847e-4a46-813e-21a0be0aa9e7",
   "metadata": {},
   "outputs": [
    {
     "data": {
      "image/png": "[encoded data removed]",
      "text/plain": [
       "<Figure size 640x480 with 1 Axes>"
      ]
     },
     "metadata": {},
     "output_type": "display_data"
    }
   ],
   "source": [
    "# Visualize the sentiment distribution\n",
    "sns.countplot(x='label', data=df)\n",
    "plt.title('Sentiment Distribution')\n",
    "plt.xlabel('Sentiment')\n",
    "plt.ylabel('Count')\n",
    "plt.xticks(ticks=[0, 1], labels=['Negative', 'Positive'])\n",
    "plt.show()"
   ]
  },
  {
   "cell_type": "markdown",
   "id": "01f7f49b-64ee-4ee7-b3db-4adf5db1016c",
   "metadata": {},
   "source": [
    "## Data Preprocessing"
   ]
  },
  {
   "cell_type": "code",
   "execution_count": 17,
   "id": "29b979cc-0910-4501-9879-8eac1ac26d01",
   "metadata": {},
   "outputs": [
    {
     "name": "stderr",
     "output_type": "stream",
     "text": [
      "[nltk_data] Downloading package stopwords to\n",
      "[nltk_data]     C:\\Users\\SIVUYILE\\AppData\\Roaming\\nltk_data...\n",
      "[nltk_data]   Package stopwords is already up-to-date!\n",
      "[nltk_data] Downloading package punkt to\n",
      "[nltk_data]     C:\\Users\\SIVUYILE\\AppData\\Roaming\\nltk_data...\n",
      "[nltk_data]   Package punkt is already up-to-date!\n"
     ]
    },
    {
     "name": "stdout",
     "output_type": "stream",
     "text": [
      "First few rows of the cleaned data:\n",
      "                                               tweet  \\\n",
      "0   @user when a father is dysfunctional and is s...   \n",
      "1  @user @user thanks for #lyft credit i can't us...   \n",
      "2                                bihday your majesty   \n",
      "3  #model   i love u take with u all the time in ...   \n",
      "4             factsguide: society now    #motivation   \n",
      "\n",
      "                                       cleaned_tweet  \n",
      "0  user father dysfunctional selfish drags kids d...  \n",
      "1  user user thanks lyft credit cant use cause do...  \n",
      "2                                     bihday majesty  \n",
      "3                        model love u take u time ur  \n",
      "4                      factsguide society motivation  \n"
     ]
    }
   ],
   "source": [
    "# Import necessary libraries for text preprocessing\n",
    "from nltk.corpus import stopwords\n",
    "from nltk.tokenize import word_tokenize\n",
    "import re\n",
    "\n",
    "# Download stopwords if not already downloaded\n",
    "import nltk\n",
    "nltk.download('stopwords')\n",
    "nltk.download('punkt')\n",
    "\n",
    "# Define a function for text preprocessing\n",
    "def preprocess_text(text):\n",
    "    # Remove special characters and numbers\n",
    "    text = re.sub(r'[^a-zA-Z\\s]', '', text)\n",
    "    \n",
    "    # Convert to lowercase\n",
    "    text = text.lower()\n",
    "    \n",
    "    # Tokenize the text\n",
    "    words = word_tokenize(text)\n",
    "    \n",
    "    # Remove stopwords\n",
    "    words = [word for word in words if word not in stopwords.words('english')]\n",
    "    \n",
    "    # Join the words back into a single string\n",
    "    return ' '.join(words)\n",
    "\n",
    "# Apply the preprocessing function to the 'tweet' column\n",
    "df['cleaned_tweet'] = df['tweet'].apply(preprocess_text)\n",
    "\n",
    "print(\"\\\n",
    "First few rows of the cleaned data:\")\n",
    "print(df[['tweet', 'cleaned_tweet']].head())"
   ]
  },
  {
   "cell_type": "markdown",
   "id": "1013e64f-0d00-4f4a-81d0-67814c15b8af",
   "metadata": {},
   "source": [
    "Analyzing Word frequencies"
   ]
  },
  {
   "cell_type": "code",
   "execution_count": 19,
   "id": "0ae90c17-ca95-49bc-89cc-8c95e8f844d9",
   "metadata": {},
   "outputs": [
    {
     "name": "stdout",
     "output_type": "stream",
     "text": [
      "Most common words:\n",
      "[('user', 17495), ('love', 2726), ('day', 2287), ('happy', 1691), ('amp', 1607), ('im', 1157), ('u', 1148), ('time', 1126), ('life', 1126), ('like', 1053)]\n"
     ]
    }
   ],
   "source": [
    "from collections import Counter\n",
    "\n",
    "\n",
    "# Analyze word frequencies\n",
    "word_freq = Counter(\" \".join(df['cleaned_tweet']).split())\n",
    "\n",
    "# Display the most common words\n",
    "print(\"\\\n",
    "Most common words:\")\n",
    "print(word_freq.most_common(10))"
   ]
  },
  {
   "cell_type": "markdown",
   "id": "d5a4b94c-beca-48e3-8f8f-3718dec39c8b",
   "metadata": {},
   "source": [
    "## Modeling "
   ]
  },
  {
   "cell_type": "code",
   "execution_count": 21,
   "id": "24f31e92-06f2-4a7a-afba-e5f259ca2d1a",
   "metadata": {},
   "outputs": [
    {
     "name": "stderr",
     "output_type": "stream",
     "text": [
      "  0%|          | 0/4 [00:00<?, ?it/s]"
     ]
    },
    {
     "name": "stdout",
     "output_type": "stream",
     "text": [
      "Training Logistic Regression...\n"
     ]
    },
    {
     "name": "stderr",
     "output_type": "stream",
     "text": [
      " 25%|██▌       | 1/4 [00:01<00:03,  1.00s/it]"
     ]
    },
    {
     "name": "stdout",
     "output_type": "stream",
     "text": [
      "Logistic Regression Accuracy: 0.9503\n",
      "              precision    recall  f1-score   support\n",
      "\n",
      "           0       0.95      1.00      0.97      5937\n",
      "           1       0.92      0.33      0.49       456\n",
      "\n",
      "    accuracy                           0.95      6393\n",
      "   macro avg       0.93      0.67      0.73      6393\n",
      "weighted avg       0.95      0.95      0.94      6393\n",
      "\n",
      "\n",
      "Training Naive Bayes...\n"
     ]
    },
    {
     "name": "stderr",
     "output_type": "stream",
     "text": [
      " 50%|█████     | 2/4 [00:01<00:01,  1.45it/s]"
     ]
    },
    {
     "name": "stdout",
     "output_type": "stream",
     "text": [
      "Naive Bayes Accuracy: 0.9506\n",
      "              precision    recall  f1-score   support\n",
      "\n",
      "           0       0.95      1.00      0.97      5937\n",
      "           1       0.92      0.34      0.49       456\n",
      "\n",
      "    accuracy                           0.95      6393\n",
      "   macro avg       0.93      0.67      0.73      6393\n",
      "weighted avg       0.95      0.95      0.94      6393\n",
      "\n",
      "\n",
      "Training SVM...\n"
     ]
    },
    {
     "name": "stderr",
     "output_type": "stream",
     "text": [
      " 75%|███████▌  | 3/4 [01:21<00:37, 37.11s/it]"
     ]
    },
    {
     "name": "stdout",
     "output_type": "stream",
     "text": [
      "SVM Accuracy: 0.9567\n",
      "              precision    recall  f1-score   support\n",
      "\n",
      "           0       0.96      1.00      0.98      5937\n",
      "           1       0.94      0.42      0.58       456\n",
      "\n",
      "    accuracy                           0.96      6393\n",
      "   macro avg       0.95      0.71      0.78      6393\n",
      "weighted avg       0.96      0.96      0.95      6393\n",
      "\n",
      "\n",
      "Training Random Forest...\n"
     ]
    },
    {
     "name": "stderr",
     "output_type": "stream",
     "text": [
      "100%|██████████| 4/4 [01:51<00:00, 27.75s/it]"
     ]
    },
    {
     "name": "stdout",
     "output_type": "stream",
     "text": [
      "Random Forest Accuracy: 0.9570\n",
      "              precision    recall  f1-score   support\n",
      "\n",
      "           0       0.96      0.99      0.98      5937\n",
      "           1       0.85      0.48      0.61       456\n",
      "\n",
      "    accuracy                           0.96      6393\n",
      "   macro avg       0.91      0.74      0.80      6393\n",
      "weighted avg       0.95      0.96      0.95      6393\n",
      "\n",
      "\n",
      "The best performing model is Random Forest with an accuracy of 0.9570\n"
     ]
    },
    {
     "name": "stderr",
     "output_type": "stream",
     "text": [
      "\n"
     ]
    }
   ],
   "source": [
    "import pandas as pd\n",
    "import numpy as np\n",
    "from sklearn.model_selection import train_test_split\n",
    "from sklearn.feature_extraction.text import TfidfVectorizer\n",
    "from sklearn.linear_model import LogisticRegression\n",
    "from sklearn.naive_bayes import MultinomialNB\n",
    "from sklearn.svm import SVC\n",
    "from sklearn.ensemble import RandomForestClassifier\n",
    "from sklearn.metrics import accuracy_score, classification_report\n",
    "from tqdm import tqdm\n",
    "\n",
    "# Prepare the data\n",
    "X = df['cleaned_tweet']\n",
    "y = df['label']\n",
    "\n",
    "# Split the data\n",
    "X_train, X_test, y_train, y_test = train_test_split(X, y, test_size=0.2, random_state=42)\n",
    "\n",
    "# Vectorize the text data\n",
    "vectorizer = TfidfVectorizer(max_features=5000)\n",
    "X_train_vec = vectorizer.fit_transform(X_train)\n",
    "X_test_vec = vectorizer.transform(X_test)\n",
    "\n",
    "# Initialize models\n",
    "models = {\n",
    "    'Logistic Regression': LogisticRegression(),\n",
    "    'Naive Bayes': MultinomialNB(),\n",
    "    'SVM': SVC(),\n",
    "    'Random Forest': RandomForestClassifier()\n",
    "}\n",
    "\n",
    "# Train and evaluate models\n",
    "results = {}\n",
    "\n",
    "for name, model in tqdm(models.items()):\n",
    "    print(f\"Training {name}...\")\n",
    "    model.fit(X_train_vec, y_train)\n",
    "    y_pred = model.predict(X_test_vec)\n",
    "    accuracy = accuracy_score(y_test, y_pred)\n",
    "    results[name] = accuracy\n",
    "    print(f\"{name} Accuracy: {accuracy:.4f}\")\n",
    "    print(classification_report(y_test, y_pred))\n",
    "    print(\"\\\n",
    "\")\n",
    "\n",
    "# Find the best performing model\n",
    "best_model = max(results, key=results.get)\n",
    "print(f\"The best performing model is {best_model} with an accuracy of {results[best_model]:.4f}\")"
   ]
  },
  {
   "cell_type": "markdown",
   "id": "520d0d33-d3cc-44c7-8bf3-c931a1dfd9a1",
   "metadata": {},
   "source": [
    "The best performing model is Random Forest with an accuracy of The best performing model is Random Forest with an accuracy of 0.9578"
   ]
  },
  {
   "cell_type": "markdown",
   "id": "cc2bd743-bf9f-4a00-b25e-c0db518250d3",
   "metadata": {},
   "source": [
    "### Conclusion\n",
    "\n",
    "Based on our sentiment classification models, here are the concluding insights and recommendations:\n",
    "\n",
    "#### Model Performance:\n",
    "- All models performed well, with accuracies above 95%.\n",
    "- Random Forest slightly outperformed the others with 95.78% accuracy.\n",
    "\n",
    "#### Class Imbalance:\n",
    "- There's a significant imbalance in the dataset, with many more negative (0) than positive (1) tweets.\n",
    "- This imbalance affects the models' ability to predict positive sentiments accurately.\n",
    "\n",
    "#### Precision vs Recall:\n",
    "- All models have high precision but lower recall for positive sentiments.\n",
    "- This suggests they're more likely to miss positive tweets than incorrectly classify negative ones as positive.\n",
    "\n",
    "### Recommendations:\n",
    "- Address class imbalance using techniques like oversampling, undersampling, or SMOTE.\n",
    "- Fine-tune the Random Forest model, as it showed the best performance.\n",
    "- Consider ensemble methods to combine the strengths of different models.\n",
    "- Collect more positive sentiment data to balance the dataset.\n"
   ]
  },
  {
   "cell_type": "code",
   "execution_count": null,
   "id": "8cfa6c77-a114-41ae-be6a-37200a0e634c",
   "metadata": {},
   "outputs": [],
   "source": []
  }
 ],
 "metadata": {
  "kernelspec": {
   "display_name": "Python 3 (ipykernel)",
   "language": "python",
   "name": "python3"
  },
  "language_info": {
   "codemirror_mode": {
    "name": "ipython",
    "version": 3
   },
   "file_extension": ".py",
   "mimetype": "text/x-python",
   "name": "python",
   "nbconvert_exporter": "python",
   "pygments_lexer": "ipython3",
   "version": "3.12.4"
  }
 },
 "nbformat": 4,
 "nbformat_minor": 5
}
