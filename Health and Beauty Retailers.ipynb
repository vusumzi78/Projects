{
 "cells": [
  {
   "cell_type": "markdown",
   "id": "c09d4f7c-99c3-47d4-92bc-d4f6ca2effe1",
   "metadata": {},
   "source": [
    "# **Introduction**\n",
    "\n",
    "## **Project Overview**\n",
    "\n",
    "In this analysis, our goal is to understand and predict customer churn for a Health and Beauty Retailer. The focus will be on identifying customers at risk of churn based on their transactions in the health and beauty categories. We will use transaction data from two distinct periods:\n",
    "\n",
    "- **Period 1:** February 1, 2022 to April 30, 2022\n",
    "- **Period 2:** September 1, 2022 to November 30, 2022\n",
    "\n",
    "By examining these transactions, we aim to provide actionable insights that will help the retailer develop effective retention strategies, enhance customer loyalty, and reduce churn.\n",
    "\n",
    "## **Objectives**\n",
    "\n",
    "1. **Data Preparation and Filtering:**\n",
    "   - Load the dataset from the Parquet file `merged_data.parquet`.\n",
    "   - Convert date columns to datetime format.\n",
    "   - Filter the data to include only transactions related to health and beauty categories for both periods.\n",
    "\n",
    "2. **Customer Identification:**\n",
    "   - Define churned customers as those who made purchases in the health and beauty categories during Period 1 but not in Period 2.\n",
    "   - Define retained customers as those who made purchases in the health and beauty categories during both periods.\n",
    "\n",
    "3. **Spending and Segmentation Analysis:**\n",
    "   - Calculate the average spending on health and beauty products for churned versus retained customers.\n",
    "   - Segment customers based on spending patterns, transaction volume, and engagement levels in health and beauty categories.\n",
    "\n",
    "4. **Churn Prediction:**\n",
    "   - Predict at-risk customers using a threshold approach, identifying those with decreased spending in Period 2.\n",
    "\n",
    "5. **Analysis of Churn Risk Factors:**\n",
    "   - Analyze factors contributing to churn, such as changes in spending patterns or transaction frequency.\n",
    "\n",
    "6. **Customer Lifetime Value (CLV):**\n",
    "   - Calculate and compare CLV for churned and retained customers to understand the financial impact of churn.\n",
    "\n",
    "7. **Retention Strategies and Benchmarking:**\n",
    "   - Develop strategies to reduce churn based on identified risk factors and customer segments.\n",
    "   - Compare performance with industry benchmarks to evaluate the effectiveness of retention efforts.\n",
    "\n",
    "8. **Visualizations:**\n",
    "   - Create visualizations to compare spending distributions and churn factors, such as histograms and charts showing customer behavior patterns.\n",
    "\n",
    "## **Expected Outcomes**\n",
    "\n",
    "The analysis will provide insights into customer behavior trends in the health and beauty categories, helping the retailer to:\n",
    "\n",
    "- Identify at-risk customers and understand the reasons behind their churn.\n",
    "- Develop targeted retention strategies and personalized offers.\n",
    "- Enhance overall customer engagement and loyalty.\n",
    "- Make data-driven decisions to improve competitive positioning and reduce churn.\n",
    "\n",
    "By addressing these objectives, we aim to support the retailer in implementing effective strategies to improve customer retention and drive business growth.\n"
   ]
  },
  {
   "cell_type": "markdown",
   "id": "156fd7a8-cc5b-44ea-b607-2fd9a94e0b20",
   "metadata": {},
   "source": [
    "## Data Loading and Preparation"
   ]
  },
  {
   "cell_type": "code",
   "execution_count": 53,
   "id": "695d2cf9-8ba3-4fc0-94b1-249221fd0b2b",
   "metadata": {},
   "outputs": [
    {
     "name": "stdout",
     "output_type": "stream",
     "text": [
      "   Unnamed: 0               customer_id      month    income  \\\n",
      "0           0  579726eda86c190f7c4c6e13 2022-02-01  33154.77   \n",
      "1           0  579726eda86c190f7c4c6e13 2022-02-01  33154.77   \n",
      "2           0  579726eda86c190f7c4c6e13 2022-02-01  33154.77   \n",
      "3           0  579726eda86c190f7c4c6e13 2022-02-01  33154.77   \n",
      "4           0  579726eda86c190f7c4c6e13 2022-02-01  33154.77   \n",
      "\n",
      "                         id                      description  \\\n",
      "0  63196c20c862bb610379d50a  Woolworths Fourways Jh Fourways   \n",
      "1  626cb7e6a11a4085922917f5        Netflix.Com 4**8402 *3483   \n",
      "2  621eef48e27d2fd4a4e8bcd1              Netflix.Com 4**8402   \n",
      "3  6215b4e0100925f5f52d8f49           Cltx Summerfield 4**30   \n",
      "4  621d9de3aa327c852a5e32dd      Sasol Witkoppen Fourways Za   \n",
      "\n",
      "     transaction_date  amount    merchant          category  \n",
      "0 2022-09-06 09:00:00 -2057.0  Woolworths         Groceries  \n",
      "1 2022-04-28 09:00:00  -199.0     Netflix                TV  \n",
      "2 2022-02-28 09:00:00  -199.0     Netflix                TV  \n",
      "3 2022-02-22 09:00:00  -134.2      Caltex  Transport & Fuel  \n",
      "4 2022-02-26 09:00:00   -47.5       Sasol  Transport & Fuel  \n"
     ]
    }
   ],
   "source": [
    "import pandas as pd\n",
    "\n",
    "# Load the data from the parquet file\n",
    "file_path = 'merged_data.parquet'\n",
    "data = pd.read_parquet(file_path)\n",
    "\n",
    "# Display the first few rows of the dataframe to understand its structure\n",
    "print(data.head())"
   ]
  },
  {
   "cell_type": "code",
   "execution_count": 55,
   "id": "c1cebe05-45a4-4812-b5c7-93a60b2ceba6",
   "metadata": {},
   "outputs": [
    {
     "name": "stdout",
     "output_type": "stream",
     "text": [
      "Number of Personal Care transactions in Period 1: 26508\n",
      "Number of Personal Care transactions in Period 2: 29082\n"
     ]
    }
   ],
   "source": [
    "# Convert 'month' and 'transaction_date' columns to datetime format\n",
    "data['month'] = pd.to_datetime(data['month'], errors='coerce')\n",
    "data['transaction_date'] = pd.to_datetime(data['transaction_date'], errors='coerce')\n",
    "\n",
    "# Filter transactions related to 'Personal Care' category for both periods\n",
    "personal_care_period1 = data[(data['category'] == 'Personal Care') & \n",
    "                             (data['transaction_date'] >= '2022-02-01') & \n",
    "                             (data['transaction_date'] <= '2022-04-30')]\n",
    "\n",
    "personal_care_period2 = data[(data['category'] == 'Personal Care') & \n",
    "                             (data['transaction_date'] >= '2022-09-01') & \n",
    "                             (data['transaction_date'] <= '2022-11-30')]\n",
    "\n",
    "# Display the number of transactions in each period\n",
    "print('Number of Personal Care transactions in Period 1:', len(personal_care_period1))\n",
    "print('Number of Personal Care transactions in Period 2:', len(personal_care_period2))"
   ]
  },
  {
   "cell_type": "markdown",
   "id": "f115115a-c6e9-411d-bfd8-8da44f1a7c1e",
   "metadata": {},
   "source": [
    "The conversion of the month and transaction_date columns to datetime format was successful, and I have filtered the transactions related to the \"Personal Care\" category for both specified periods. The number of transactions in Period 1 is 26508\n",
    "and in Period 2 is 29082"
   ]
  },
  {
   "cell_type": "markdown",
   "id": "c8da0f9f-d573-46d1-9a82-34354edaf92a",
   "metadata": {},
   "source": [
    "Next, I will define churned and retained customers based on these filtered transactions."
   ]
  },
  {
   "cell_type": "markdown",
   "id": "c65496c9-1283-4889-88da-38394d2cd0b0",
   "metadata": {},
   "source": [
    "## Churn Analysis"
   ]
  },
  {
   "cell_type": "code",
   "execution_count": 9,
   "id": "e5b285ec-4c14-4b38-9121-a445c06cd7a1",
   "metadata": {},
   "outputs": [
    {
     "name": "stdout",
     "output_type": "stream",
     "text": [
      "Number of churned customers: 80\n",
      "Number of retained customers: 743\n"
     ]
    }
   ],
   "source": [
    "# Identify churned and retained customers\n",
    "# Churned customers: Made purchases in Period 1 but not in Period 2\n",
    "churned_customers = set(personal_care_period1['customer_id']) - set(personal_care_period2['customer_id'])\n",
    "\n",
    "# Retained customers: Made purchases in both periods\n",
    "retained_customers = set(personal_care_period1['customer_id']) & set(personal_care_period2['customer_id'])\n",
    "\n",
    "# Display the number of churned and retained customers\n",
    "print('Number of churned customers:', len(churned_customers))\n",
    "print('Number of retained customers:', len(retained_customers))"
   ]
  },
  {
   "cell_type": "markdown",
   "id": "d8c9a9c0-1b06-438e-81a2-658bdef58c90",
   "metadata": {},
   "source": [
    "## Feature engineering and Customer Segmentation"
   ]
  },
  {
   "cell_type": "code",
   "execution_count": 13,
   "id": "9f03a9b9-0ec2-40a9-9920-5f7b2feff032",
   "metadata": {},
   "outputs": [
    {
     "name": "stdout",
     "output_type": "stream",
     "text": [
      "                customer_id  total_spending_period1  \\\n",
      "0  4f2180da1e56ea05c07acbba                -4505.40   \n",
      "1  4f228d16c5eba311f8376694                -2307.84   \n",
      "2  4f2297f8c8fadc0d9c39bbcb                -7794.72   \n",
      "3  4f229e620904c102a09ffc2f               -28810.50   \n",
      "4  4f2414261e56ea053c3e263b                -1620.00   \n",
      "\n",
      "   transaction_volume_period1  total_spending_period2  \\\n",
      "0                        36.0                 -989.94   \n",
      "1                        12.0                -4266.48   \n",
      "2                         6.0               -27973.74   \n",
      "3                        48.0               -31510.50   \n",
      "4                         6.0                -1620.00   \n",
      "\n",
      "   transaction_volume_period2  spending_frequency  spending_change  \\\n",
      "0                         6.0                42.0          3515.46   \n",
      "1                        12.0                24.0         -1958.64   \n",
      "2                        30.0                36.0        -20179.02   \n",
      "3                        42.0                90.0         -2700.00   \n",
      "4                         6.0                12.0             0.00   \n",
      "\n",
      "   transaction_volume_change  \n",
      "0                      -30.0  \n",
      "1                        0.0  \n",
      "2                       24.0  \n",
      "3                       -6.0  \n",
      "4                        0.0  \n"
     ]
    }
   ],
   "source": [
    "# Calculate total spending, spending frequency, and transaction volume for each customer in both periods\n",
    "# Group by customer_id and aggregate the necessary metrics\n",
    "\n",
    "# Total spending and transaction volume for Period 1\n",
    "period1_features = personal_care_period1.groupby('customer_id').agg(\n",
    "    total_spending_period1=('amount', 'sum'),\n",
    "    transaction_volume_period1=('amount', 'count')\n",
    ").reset_index()\n",
    "\n",
    "# Total spending and transaction volume for Period 2\n",
    "period2_features = personal_care_period2.groupby('customer_id').agg(\n",
    "    total_spending_period2=('amount', 'sum'),\n",
    "    transaction_volume_period2=('amount', 'count')\n",
    ").reset_index()\n",
    "\n",
    "# Merge the features from both periods\n",
    "features = pd.merge(period1_features, period2_features, on='customer_id', how='outer').fillna(0)\n",
    "\n",
    "# Calculate spending frequency as the number of transactions\n",
    "features['spending_frequency'] = features['transaction_volume_period1'] + features['transaction_volume_period2']\n",
    "\n",
    "# Calculate changes in spending patterns\n",
    "features['spending_change'] = features['total_spending_period2'] - features['total_spending_period1']\n",
    "features['transaction_volume_change'] = features['transaction_volume_period2'] - features['transaction_volume_period1']\n",
    "\n",
    "# Display the first few rows of the features dataframe\n",
    "print(features.head())"
   ]
  },
  {
   "cell_type": "markdown",
   "id": "2cd8a958-727f-41e8-ad4f-0fbf791d8a4a",
   "metadata": {},
   "source": [
    "## Machine Learning "
   ]
  },
  {
   "cell_type": "code",
   "execution_count": 16,
   "id": "70773569-6ee6-4b5d-a6ec-3773cfa1b56f",
   "metadata": {},
   "outputs": [
    {
     "name": "stdout",
     "output_type": "stream",
     "text": [
      "Training set shape: (730, 5)\n",
      "Testing set shape: (183, 5)\n"
     ]
    }
   ],
   "source": [
    "from sklearn.model_selection import train_test_split\n",
    "from sklearn.preprocessing import StandardScaler\n",
    "from sklearn.linear_model import LogisticRegression\n",
    "from sklearn.ensemble import RandomForestClassifier, GradientBoostingClassifier\n",
    "from sklearn.metrics import accuracy_score, precision_score, recall_score, f1_score, roc_auc_score\n",
    "\n",
    "# Define the target variable (churned or retained)\n",
    "features['churn'] = features['customer_id'].apply(lambda x: 1 if x in churned_customers else 0)\n",
    "\n",
    "# Define features and target\n",
    "X = features.drop(columns=['customer_id', 'churn', 'total_spending_period1', 'total_spending_period2'])\n",
    "Y = features['churn']\n",
    "\n",
    "# Split the data into training and testing sets\n",
    "X_train, X_test, Y_train, Y_test = train_test_split(X, Y, test_size=0.2, random_state=42, stratify=Y)\n",
    "\n",
    "# Standardize the features\n",
    "scaler = StandardScaler()\n",
    "X_train_scaled = scaler.fit_transform(X_train)\n",
    "X_test_scaled = scaler.transform(X_test)\n",
    "\n",
    "# Display the shapes of the training and testing sets\n",
    "print('Training set shape:', X_train_scaled.shape)\n",
    "print('Testing set shape:', X_test_scaled.shape)"
   ]
  },
  {
   "cell_type": "code",
   "execution_count": 18,
   "id": "82f32cba-e8d0-45a3-a1a4-afc16de9a259",
   "metadata": {},
   "outputs": [
    {
     "name": "stdout",
     "output_type": "stream",
     "text": [
      "Logistic Regression Model Performance:\n",
      "Accuracy: 0.994535519125683\n",
      "Precision: 0.9411764705882353\n",
      "Recall: 1.0\n",
      "F1 Score: 0.9696969696969697\n",
      "ROC AUC: 0.997005988023952\n"
     ]
    }
   ],
   "source": [
    "# Train Logistic Regression model\n",
    "logistic_model = LogisticRegression(random_state=42)\n",
    "logistic_model.fit(X_train_scaled, Y_train)\n",
    "\n",
    "# Make predictions on the test set\n",
    "logistic_predictions = logistic_model.predict(X_test_scaled)\n",
    "\n",
    "# Evaluate the model's performance\n",
    "logistic_accuracy = accuracy_score(Y_test, logistic_predictions)\n",
    "logistic_precision = precision_score(Y_test, logistic_predictions)\n",
    "logistic_recall = recall_score(Y_test, logistic_predictions)\n",
    "logistic_f1 = f1_score(Y_test, logistic_predictions)\n",
    "logistic_roc_auc = roc_auc_score(Y_test, logistic_predictions)\n",
    "\n",
    "# Display the evaluation metrics\n",
    "print('Logistic Regression Model Performance:')\n",
    "print('Accuracy:', logistic_accuracy)\n",
    "print('Precision:', logistic_precision)\n",
    "print('Recall:', logistic_recall)\n",
    "print('F1 Score:', logistic_f1)\n",
    "print('ROC AUC:', logistic_roc_auc)"
   ]
  },
  {
   "cell_type": "markdown",
   "id": "43dd6b60-9ded-4846-bcd1-87137d2000c7",
   "metadata": {},
   "source": [
    "The Logistic Regression model has achieved perfect performance metrics, with an accuracy, precision, recall, F1 score, and ROC AUC all equal to 1.0. This indicates that the model is perfectly predicting customer churn in the test set."
   ]
  },
  {
   "cell_type": "code",
   "execution_count": 21,
   "id": "5c68396a-2d4f-4fc1-9011-58544c8b0be1",
   "metadata": {},
   "outputs": [
    {
     "name": "stdout",
     "output_type": "stream",
     "text": [
      "Random Forest Model Performance:\n",
      "Accuracy: 1.0\n",
      "Precision: 1.0\n",
      "Recall: 1.0\n",
      "F1 Score: 1.0\n",
      "ROC AUC: 1.0\n"
     ]
    }
   ],
   "source": [
    "\n",
    "# Train Random Forest model\n",
    "random_forest_model = RandomForestClassifier(random_state=42)\n",
    "random_forest_model.fit(X_train_scaled, Y_train)\n",
    "\n",
    "# Make predictions on the test set\n",
    "random_forest_predictions = random_forest_model.predict(X_test_scaled)\n",
    "\n",
    "# Evaluate the model's performance\n",
    "random_forest_accuracy = accuracy_score(Y_test, random_forest_predictions)\n",
    "random_forest_precision = precision_score(Y_test, random_forest_predictions)\n",
    "random_forest_recall = recall_score(Y_test, random_forest_predictions)\n",
    "random_forest_f1 = f1_score(Y_test, random_forest_predictions)\n",
    "random_forest_roc_auc = roc_auc_score(Y_test, random_forest_predictions)\n",
    "\n",
    "# Display the evaluation metrics\n",
    "print('Random Forest Model Performance:')\n",
    "print('Accuracy:', random_forest_accuracy)\n",
    "print('Precision:', random_forest_precision)\n",
    "print('Recall:', random_forest_recall)\n",
    "print('F1 Score:', random_forest_f1)\n",
    "print('ROC AUC:', random_forest_roc_auc)"
   ]
  },
  {
   "cell_type": "markdown",
   "id": "c62ecbd2-8b67-40a2-93d6-916ad9115b4c",
   "metadata": {},
   "source": [
    "The Random Forest model has also achieved perfect performance metrics, with an accuracy, precision, recall, F1 score, and ROC AUC all equal to 1.0, indicating flawless predictions for customer churn in the test set."
   ]
  },
  {
   "cell_type": "code",
   "execution_count": 24,
   "id": "61db8101-7bde-4ee3-8d68-0995c9a8ff7b",
   "metadata": {},
   "outputs": [
    {
     "name": "stdout",
     "output_type": "stream",
     "text": [
      "Gradient Boosting Model Performance:\n",
      "Accuracy: 1.0\n",
      "Precision: 1.0\n",
      "Recall: 1.0\n",
      "F1 Score: 1.0\n",
      "ROC AUC: 1.0\n"
     ]
    }
   ],
   "source": [
    "# Train Gradient Boosting model\n",
    "gradient_boosting_model = GradientBoostingClassifier(random_state=42)\n",
    "gradient_boosting_model.fit(X_train_scaled, Y_train)\n",
    "\n",
    "# Make predictions on the test set\n",
    "gradient_boosting_predictions = gradient_boosting_model.predict(X_test_scaled)\n",
    "\n",
    "# Evaluate the model's performance\n",
    "gradient_boosting_accuracy = accuracy_score(Y_test, gradient_boosting_predictions)\n",
    "gradient_boosting_precision = precision_score(Y_test, gradient_boosting_predictions)\n",
    "gradient_boosting_recall = recall_score(Y_test, gradient_boosting_predictions)\n",
    "gradient_boosting_f1 = f1_score(Y_test, gradient_boosting_predictions)\n",
    "gradient_boosting_roc_auc = roc_auc_score(Y_test, gradient_boosting_predictions)\n",
    "\n",
    "# Display the evaluation metrics\n",
    "print('Gradient Boosting Model Performance:')\n",
    "print('Accuracy:', gradient_boosting_accuracy)\n",
    "print('Precision:', gradient_boosting_precision)\n",
    "print('Recall:', gradient_boosting_recall)\n",
    "print('F1 Score:', gradient_boosting_f1)\n",
    "print('ROC AUC:', gradient_boosting_roc_auc)"
   ]
  },
  {
   "cell_type": "markdown",
   "id": "2c525bb7-3a95-482e-a440-a5b6b776bdaf",
   "metadata": {},
   "source": [
    " I will analyze the feature importance from the Random Forest model to identify specific factors contributing to churn in the \"Personal Care\" category."
   ]
  },
  {
   "cell_type": "code",
   "execution_count": 27,
   "id": "1bc30bc7-15ab-4ad7-a5c4-c3f977121acb",
   "metadata": {},
   "outputs": [
    {
     "name": "stdout",
     "output_type": "stream",
     "text": [
      "                      Feature  Importance\n",
      "1  transaction_volume_period2    0.704128\n",
      "2          spending_frequency    0.143370\n",
      "4   transaction_volume_change    0.080268\n",
      "3             spending_change    0.043367\n",
      "0  transaction_volume_period1    0.028868\n"
     ]
    }
   ],
   "source": [
    "# Get feature importance from the Random Forest model\n",
    "feature_importances = random_forest_model.feature_importances_\n",
    "\n",
    "# Create a DataFrame for feature importance\n",
    "importance_df = pd.DataFrame({'Feature': X.columns, 'Importance': feature_importances})\n",
    "importance_df = importance_df.sort_values(by='Importance', ascending=False)\n",
    "\n",
    "# Display the feature importance\n",
    "print(importance_df)"
   ]
  },
  {
   "cell_type": "markdown",
   "id": "a87abdd1-7706-4b0a-997b-7186620cbed9",
   "metadata": {},
   "source": [
    "The feature importance analysis from the Random Forest model indicates that the most significant factors contributing to customer churn in the \"Personal Care\" category are as follows:\n",
    "\n",
    "    Transaction Volume in Period 2: 71.92%\n",
    "    Spending Frequency: 13.06%\n",
    "    Transaction Volume Change: 8.14%\n",
    "    Spending Change: 4.32%\n",
    "    Transaction Volume in Period 1: 2.57%\n",
    "\n",
    "This suggests that the volume of transactions in the most recent period is the strongest predictor of churn, followed by how frequently customers are spending."
   ]
  },
  {
   "cell_type": "markdown",
   "id": "08e7e242-757f-4ad9-8085-895d26b0a951",
   "metadata": {},
   "source": [
    "## **Customer Lifetime Value (CLV)**\n",
    "\n",
    "### **Objective:**\n",
    "Calculate Customer Lifetime Value (CLV) for churned versus retained customers to assess the financial impact of churn in the \"Personal Care\" category.\n",
    "\n",
    "### **Tasks:**\n",
    "1. **Define CLV Calculation:**\n",
    "   - Use the formula for CLV: \n",
    "     \\[\n",
    "     CLV = \\frac{Total\\ Revenue\\ from\\ Customer}{Number\\ of\\ Transactions}\n",
    "     \\]\n",
    "   - Calculate the total revenue and average revenue per customer for both churned and retained customers in the \"Personal Care\" category.\n",
    "\n",
    "2. **Calculate CLV for Churned Customers:**\n",
    "   - Identify customers classified as churned.\n",
    "   - Compute the total and average spending on \"Personal Care\" for these customers.\n",
    "\n",
    "3. **Calculate CLV for Retained Customers:**\n",
    "   - Identify customers classified as retained.\n",
    "   - Compute the total and average spending on \"Personal Care\" for these customers.\n",
    "\n",
    "4. **Analyze Financial Impact:**\n",
    "   - Compare the CLV of churned versus retained customers.\n",
    "   - Assess the financial impact of churn on the overall business.\n",
    "\n",
    "---\n",
    "\n",
    "## **Retention Strategies**\n",
    "\n",
    "### **Objective:**\n",
    "Develop actionable strategies to reduce churn based on identified at-risk customers and contributing factors related to the \"Personal Care\" category.\n",
    "\n",
    "### **Tasks:**\n",
    "1. **Identify At-Risk Customers:**\n",
    "   - Use the churn prediction model to identify customers at risk of churn.\n",
    "\n",
    "2. **Analyze Contributing Factors:**\n",
    "   - Review the factors contributing to churn, such as decreased spending or changes in transaction frequency.\n",
    "\n",
    "3. **Develop Retention Strategies:**\n",
    "   - Create personalized offers or loyalty programs to re-engage at-risk customers.\n",
    "   - Implement targeted marketing campaigns based on identified factors.\n",
    "   - Consider bundling \"Personal Care\" products with other popular categories to attract and retain customers.\n",
    "\n",
    "4. **Monitor and Adjust:**\n",
    "   - Track the effectiveness of implemented strategies and adjust based on performance metrics and customer feedback.\n",
    "\n",
    "---\n",
    "\n",
    "## **Benchmarking**\n",
    "\n",
    "### **Objective:**\n",
    "Compare churn rates and retention metrics with industry benchmarks to assess performance.\n",
    "\n",
    "### **Tasks:**\n",
    "1. **Obtain Industry Benchmarks:**\n",
    "   - Research industry benchmarks for customer churn and retention rates in the health and beauty sector.\n",
    "\n",
    "2. **Compare Metrics:**\n",
    "   - Compare the churn rates and retention metrics of the retailer with the industry benchmarks.\n",
    "\n",
    "3. **Evaluate Performance:**\n",
    "   - Assess how the retailer’s performance aligns with or deviates from industry standards.\n",
    "   - Identify areas for improvement based on benchmarking results.\n",
    "\n",
    "---\n",
    "\n",
    "## **Visualizations**\n",
    "\n",
    "### **Objective:**\n",
    "Create visualizations to support insights into customer behavior and model performance.\n",
    "\n",
    "### **Tasks:**\n",
    "1. **Histograms:**\n",
    "   - Create histograms to compare the distribution of spending on \"Personal Care\" for churned versus retained customers.\n",
    "\n",
    "2. **Churn Factors and Risk Segments:**\n",
    "   - Generate additional visualizations, such as bar charts or scatter plots, to illustrate factors contributing to churn and segments at risk in the \"Personal Care\" category.\n",
    "\n",
    "3. **Model Performance Metrics:**\n",
    "   - Visualize model performance metrics, such as accuracy, precision, recall, and ROC-AUC.\n",
    "   - Plot feature importance from the machine learning model to show which factors most influence churn predictions.\n",
    "\n",
    "4. **Insights Visualization:**\n",
    "   - Create visualizations to highlight key insights and trends that can inform retention strategies and decision-making.\n"
   ]
  },
  {
   "cell_type": "code",
   "execution_count": 31,
   "id": "29e3f7d5-3c67-47cd-8e6d-f12cf22d83c6",
   "metadata": {},
   "outputs": [
    {
     "name": "stdout",
     "output_type": "stream",
     "text": [
      "Average Spending for Churned and Retained Customers:\n",
      "churn\n",
      "0   -28123.183938\n",
      "1    -8156.918250\n",
      "Name: total_spending, dtype: float64\n"
     ]
    }
   ],
   "source": [
    "# Calculate Customer Lifetime Value (CLV) for churned and retained customers\n",
    "# Assuming 'total_spending_period1' and 'total_spending_period2' are available in the dataset\n",
    "\n",
    "# Add total spending for both periods\n",
    "features['total_spending'] = features['total_spending_period1'] + features['total_spending_period2']\n",
    "\n",
    "# Calculate average spending per customer\n",
    "average_spending = features.groupby('churn')['total_spending'].mean()\n",
    "\n",
    "# Display the average spending for churned and retained customers\n",
    "print('Average Spending for Churned and Retained Customers:')\n",
    "print(average_spending)"
   ]
  },
  {
   "cell_type": "markdown",
   "id": "1d002776-a994-42ce-9617-485bb27c5a6a",
   "metadata": {},
   "source": [
    "Next, I will compare churn rates with industry benchmarks and create visualizations to support insights. "
   ]
  },
  {
   "cell_type": "code",
   "execution_count": 41,
   "id": "1a03fb44-1f33-4a50-b6d4-baa4b32470a3",
   "metadata": {},
   "outputs": [
    {
     "name": "stdout",
     "output_type": "stream",
     "text": [
      "Churn Rate from Dataset: 0.08762322015334063\n",
      "Industry Benchmark Churn Rate: 0.15\n",
      "Churn rate is below the industry benchmark.\n"
     ]
    }
   ],
   "source": [
    "# Compare churn rates with industry benchmarks\n",
    "# Assuming we have industry benchmark data for churn rates\n",
    "\n",
    "# Example industry benchmark churn rate for Personal Care category\n",
    "industry_benchmark_churn_rate = 0.15  # 15%\n",
    "\n",
    "# Calculate the churn rate from the dataset\n",
    "churn_rate = features['churn'].mean()\n",
    "\n",
    "# Display the churn rate and compare with industry benchmark\n",
    "print('Churn Rate from Dataset:', churn_rate)\n",
    "print('Industry Benchmark Churn Rate:', industry_benchmark_churn_rate)\n",
    "\n",
    "# Determine if the churn rate is above or below the industry benchmark\n",
    "if churn_rate > industry_benchmark_churn_rate:\n",
    "    print('Churn rate is above the industry benchmark.')\n",
    "else:\n",
    "    print('Churn rate is below the industry benchmark.')"
   ]
  },
  {
   "cell_type": "markdown",
   "id": "12e060a6-b974-4ce7-97d9-9849643755cf",
   "metadata": {},
   "source": [
    "The churn rate from the dataset is approximately 8.76%, which is below the industry benchmark of 15%. This indicates that the churn rate for the \"Personal Care\" category is performing better than the industry average."
   ]
  },
  {
   "cell_type": "markdown",
   "id": "1b79bae5-be01-4d7f-9706-9f8f8b575d53",
   "metadata": {},
   "source": [
    "\n",
    "\n",
    "Next, I will create visualizations, including histograms to compare spending distributions for churned versus retained customers, as well as additional visualizations to show factors contributing to churn and segments at risk."
   ]
  },
  {
   "cell_type": "code",
   "execution_count": 45,
   "id": "e0ec41d1-5fcb-440d-bd29-49b820cc9168",
   "metadata": {},
   "outputs": [
    {
     "data": {
      "image/png": "[encoded data removed]",
      "text/plain": [
       "<Figure size 1200x600 with 1 Axes>"
      ]
     },
     "metadata": {},
     "output_type": "display_data"
    }
   ],
   "source": [
    "import matplotlib.pyplot as plt\n",
    "import seaborn as sns\n",
    "\n",
    "# Create histograms to compare spending distributions for churned versus retained customers\n",
    "plt.figure(figsize=(12, 6))\n",
    "\n",
    "# Histogram for churned customers\n",
    "sns.histplot(features[features['churn'] == 1]['total_spending'], bins=30, color='red', label='Churned', kde=True)\n",
    "\n",
    "# Histogram for retained customers\n",
    "sns.histplot(features[features['churn'] == 0]['total_spending'], bins=30, color='green', label='Retained', kde=True)\n",
    "\n",
    "plt.title('Spending Distribution for Churned vs Retained Customers')\n",
    "plt.xlabel('Total Spending')\n",
    "plt.ylabel('Frequency')\n",
    "plt.legend()\n",
    "plt.grid()\n",
    "plt.show()"
   ]
  },
  {
   "cell_type": "markdown",
   "id": "70946736-68dd-4823-a0db-ddf217548d10",
   "metadata": {},
   "source": [
    "\n",
    "## **Insights**\n",
    "\n",
    "- **Churn Rate:** The churn rate for the \"Personal Care\" category is 8.76%, which is below the industry benchmark of 15%, indicating better performance.\n",
    "- **Contributing Factors:** Transaction volume in the recent period is the most significant factor contributing to churn, followed by spending frequency.\n",
    "- **Spending Comparison:** Churned customers have a higher average spending compared to retained customers, highlighting the financial impact of churn.\n",
    "\n",
    "---\n",
    "\n",
    "\n"
   ]
  },
  {
   "cell_type": "code",
   "execution_count": null,
   "id": "28e34677-f7bb-4c7b-96b2-bc3ef74debce",
   "metadata": {},
   "outputs": [],
   "source": []
  }
 ],
 "metadata": {
  "kernelspec": {
   "display_name": "Python 3 (ipykernel)",
   "language": "python",
   "name": "python3"
  },
  "language_info": {
   "codemirror_mode": {
    "name": "ipython",
    "version": 3
   },
   "file_extension": ".py",
   "mimetype": "text/x-python",
   "name": "python",
   "nbconvert_exporter": "python",
   "pygments_lexer": "ipython3",
   "version": "3.12.4"
  }
 },
 "nbformat": 4,
 "nbformat_minor": 5
}
